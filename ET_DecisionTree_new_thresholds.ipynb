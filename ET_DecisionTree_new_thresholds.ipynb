{
 "cells": [
  {
   "cell_type": "code",
   "execution_count": 15,
   "id": "2d430974-72d5-4af4-be32-6f50e0da4292",
   "metadata": {},
   "outputs": [],
   "source": [
    "from pathlib import Path\n",
    "from tqdm import tqdm\n",
    "import nibabel as nib\n",
    "import numpy as np\n",
    "import pandas as pd\n",
    "import shutil\n",
    "import pickle\n",
    "\n",
    "from sklearn import tree\n",
    "\n",
    "from brats21 import utils as bu\n",
    "from brats21.postprocessing import (\n",
    "    logits_to_classes,\n",
    "    revert_bbox_softmax,\n",
    "    classes_transformations,\n",
    ")\n",
    "\n",
    "import matplotlib.pyplot as plt\n",
    "import plotly.express as px"
   ]
  },
  {
   "cell_type": "markdown",
   "id": "719df109-cd2f-42bf-99e1-289a3ce9d564",
   "metadata": {},
   "source": [
    "## Basic definitions"
   ]
  },
  {
   "cell_type": "code",
   "execution_count": 3,
   "id": "3745fe9b-08ec-4e79-a138-8cb2066e95e8",
   "metadata": {},
   "outputs": [],
   "source": [
    "def plot_masks(vol):\n",
    "    return px.imshow(vol, facet_col=0, animation_frame=1, binary_string=True)"
   ]
  },
  {
   "cell_type": "code",
   "execution_count": 5,
   "id": "c15c497e-55b9-431a-9765-6c9c9e5a00ac",
   "metadata": {},
   "outputs": [],
   "source": [
    "class SuspectLoader:\n",
    "    \"\"\"Loade and process logits from a directory as returned from nnUNet.\"\"\"\n",
    "\n",
    "    def __init__(self, input_dir):\n",
    "        self.input_dir = Path(input_dir)\n",
    "\n",
    "        self.logits = {x.stem: x for x in self.input_dir.glob(\"*.npz\")}\n",
    "        assert len(self.logits) > 0, f\"No softmax found in {self.input_dir}\"\n",
    "\n",
    "    def __len__(self):\n",
    "        return len(self.logits)\n",
    "\n",
    "    def __getitem__(self, idx):\n",
    "        path = self.logits[idx]\n",
    "\n",
    "        logit = np.load(path)[\"softmax\"]\n",
    "        logit_id = path.name.split(\".\")[0]\n",
    "\n",
    "        # Load meta information\n",
    "        meta = bu.load_pickle(path.with_suffix(\".pkl\"))\n",
    "        bbox = meta[\"crop_bbox\"]\n",
    "        shape = np.insert(meta[\"original_size_of_raw_data\"], 0, 3)\n",
    "\n",
    "        # Logits to classes\n",
    "        classes = revert_bbox_softmax(logit, bbox, shape)\n",
    "\n",
    "        return classes\n",
    "\n",
    "    def get_id(self, idx):\n",
    "        return self.logits[idx].stem\n"
   ]
  },
  {
   "cell_type": "code",
   "execution_count": 8,
   "id": "a81a7082-98e7-4a31-9606-97c34810f266",
   "metadata": {},
   "outputs": [],
   "source": [
    "def predicted_num_voxels(vol, **kwargs):\n",
    "    classes = logits_to_classes(vol, **kwargs)\n",
    "    return [np.sum(classes == i) for i in range(1, 4)]"
   ]
  },
  {
   "cell_type": "code",
   "execution_count": 4,
   "id": "728023c7-e47e-4066-aefe-8203f8d81234",
   "metadata": {},
   "outputs": [],
   "source": [
    "TARGET = Path(\"/sc-scratch/sc-scratch-gbm-radiomics/validation_data/predictions/NewPredictions/TrainerBratsRegions\")\n",
    "tumor_presence_path = Path(\"/sc-scratch/sc-scratch-gbm-radiomics/validation_data/tumor_presence.csv\")"
   ]
  },
  {
   "cell_type": "code",
   "execution_count": 6,
   "id": "ecef16c4-7c4c-4021-9755-40420bb358b2",
   "metadata": {
    "tags": []
   },
   "outputs": [],
   "source": [
    "loader = SuspectLoader(TARGET)"
   ]
  },
  {
   "cell_type": "code",
   "execution_count": 7,
   "id": "4fb7a1cb-5616-4e4a-b052-677595de451e",
   "metadata": {},
   "outputs": [],
   "source": [
    "tumor_presence = pd.read_csv(tumor_presence_path)\n",
    "tumor_presence.loc[:, \"scan_id\"] = tumor_presence.scan_id.map(lambda x: f\"{x:05}\")\n",
    "tumor_presence.set_index(\"scan_id\", inplace=True)"
   ]
  },
  {
   "cell_type": "markdown",
   "id": "cc75c882-a098-4adf-b84a-60d5f821ea63",
   "metadata": {},
   "source": [
    "## Compute volumes"
   ]
  },
  {
   "cell_type": "code",
   "execution_count": 9,
   "id": "bfe0d67a-d7d7-433b-9690-a32009c8daa1",
   "metadata": {},
   "outputs": [
    {
     "name": "stderr",
     "output_type": "stream",
     "text": [
      "100%|██████████| 219/219 [00:55<00:00,  3.93it/s]\n"
     ]
    }
   ],
   "source": [
    "edema = 0.475\n",
    "enhancing = 0.681\n",
    "necrotic = 0.449\n",
    "\n",
    "tumor_presence[\"old_ET\"] = None\n",
    "tumor_presence[\"old_TC\"] = None\n",
    "tumor_presence[\"old_WT\"] = None\n",
    "\n",
    "tumor_presence[\"new_ET\"] = None\n",
    "tumor_presence[\"new_TC\"] = None\n",
    "tumor_presence[\"new_WT\"] = None\n",
    "\n",
    "for sid, _ in tqdm(list(tumor_presence.iterrows())):\n",
    "    volume = loader[sid]\n",
    "    \n",
    "    ed, ne, en = predicted_num_voxels(volume, thresholds=(0.5, 0.5, 0.5))\n",
    "    tumor_presence.loc[sid, \"old_WT\"] = ed\n",
    "    tumor_presence.loc[sid, \"old_TC\"] = ne\n",
    "    tumor_presence.loc[sid, \"old_ET\"] = en\n",
    "    \n",
    "    ed, ne, en = predicted_num_voxels(volume, thresholds=(edema, necrotic, enhancing))\n",
    "    tumor_presence.loc[sid, \"new_WT\"] = ed\n",
    "    tumor_presence.loc[sid, \"new_TC\"] = ne\n",
    "    tumor_presence.loc[sid, \"new_ET\"] = en\n"
   ]
  },
  {
   "cell_type": "code",
   "execution_count": 11,
   "id": "e3febba9-7614-4e57-a034-3e7d2a457739",
   "metadata": {},
   "outputs": [
    {
     "data": {
      "text/html": [
       "<div>\n",
       "<style scoped>\n",
       "    .dataframe tbody tr th:only-of-type {\n",
       "        vertical-align: middle;\n",
       "    }\n",
       "\n",
       "    .dataframe tbody tr th {\n",
       "        vertical-align: top;\n",
       "    }\n",
       "\n",
       "    .dataframe thead th {\n",
       "        text-align: right;\n",
       "    }\n",
       "</style>\n",
       "<table border=\"1\" class=\"dataframe\">\n",
       "  <thead>\n",
       "    <tr style=\"text-align: right;\">\n",
       "      <th></th>\n",
       "      <th>contains_ET</th>\n",
       "      <th>contains_TC</th>\n",
       "      <th>contains_WT</th>\n",
       "      <th>old_ET</th>\n",
       "      <th>old_TC</th>\n",
       "      <th>old_WT</th>\n",
       "      <th>new_ET</th>\n",
       "      <th>new_TC</th>\n",
       "      <th>new_WT</th>\n",
       "    </tr>\n",
       "    <tr>\n",
       "      <th>scan_id</th>\n",
       "      <th></th>\n",
       "      <th></th>\n",
       "      <th></th>\n",
       "      <th></th>\n",
       "      <th></th>\n",
       "      <th></th>\n",
       "      <th></th>\n",
       "      <th></th>\n",
       "      <th></th>\n",
       "    </tr>\n",
       "  </thead>\n",
       "  <tbody>\n",
       "    <tr>\n",
       "      <th>00001</th>\n",
       "      <td>yes</td>\n",
       "      <td>yes</td>\n",
       "      <td>yes</td>\n",
       "      <td>22749</td>\n",
       "      <td>17922</td>\n",
       "      <td>86622</td>\n",
       "      <td>21959</td>\n",
       "      <td>18763</td>\n",
       "      <td>86857</td>\n",
       "    </tr>\n",
       "    <tr>\n",
       "      <th>00013</th>\n",
       "      <td>yes</td>\n",
       "      <td>yes</td>\n",
       "      <td>yes</td>\n",
       "      <td>42836</td>\n",
       "      <td>25682</td>\n",
       "      <td>41686</td>\n",
       "      <td>41476</td>\n",
       "      <td>27181</td>\n",
       "      <td>42105</td>\n",
       "    </tr>\n",
       "    <tr>\n",
       "      <th>00015</th>\n",
       "      <td>yes</td>\n",
       "      <td>yes</td>\n",
       "      <td>yes</td>\n",
       "      <td>32602</td>\n",
       "      <td>11045</td>\n",
       "      <td>177933</td>\n",
       "      <td>31849</td>\n",
       "      <td>11856</td>\n",
       "      <td>178397</td>\n",
       "    </tr>\n",
       "    <tr>\n",
       "      <th>00027</th>\n",
       "      <td>yes</td>\n",
       "      <td>yes</td>\n",
       "      <td>yes</td>\n",
       "      <td>20823</td>\n",
       "      <td>13861</td>\n",
       "      <td>26689</td>\n",
       "      <td>20080</td>\n",
       "      <td>14658</td>\n",
       "      <td>26913</td>\n",
       "    </tr>\n",
       "    <tr>\n",
       "      <th>00037</th>\n",
       "      <td>yes</td>\n",
       "      <td>yes</td>\n",
       "      <td>yes</td>\n",
       "      <td>6270</td>\n",
       "      <td>857</td>\n",
       "      <td>39911</td>\n",
       "      <td>6176</td>\n",
       "      <td>937</td>\n",
       "      <td>40042</td>\n",
       "    </tr>\n",
       "    <tr>\n",
       "      <th>...</th>\n",
       "      <td>...</td>\n",
       "      <td>...</td>\n",
       "      <td>...</td>\n",
       "      <td>...</td>\n",
       "      <td>...</td>\n",
       "      <td>...</td>\n",
       "      <td>...</td>\n",
       "      <td>...</td>\n",
       "      <td>...</td>\n",
       "    </tr>\n",
       "    <tr>\n",
       "      <th>01794</th>\n",
       "      <td>yes</td>\n",
       "      <td>yes</td>\n",
       "      <td>yes</td>\n",
       "      <td>9396</td>\n",
       "      <td>720</td>\n",
       "      <td>20470</td>\n",
       "      <td>9321</td>\n",
       "      <td>806</td>\n",
       "      <td>20534</td>\n",
       "    </tr>\n",
       "    <tr>\n",
       "      <th>01795</th>\n",
       "      <td>yes</td>\n",
       "      <td>yes</td>\n",
       "      <td>yes</td>\n",
       "      <td>16161</td>\n",
       "      <td>3288</td>\n",
       "      <td>46706</td>\n",
       "      <td>15865</td>\n",
       "      <td>3679</td>\n",
       "      <td>46712</td>\n",
       "    </tr>\n",
       "    <tr>\n",
       "      <th>01796</th>\n",
       "      <td>yes</td>\n",
       "      <td>yes</td>\n",
       "      <td>yes</td>\n",
       "      <td>3411</td>\n",
       "      <td>128</td>\n",
       "      <td>62058</td>\n",
       "      <td>3348</td>\n",
       "      <td>199</td>\n",
       "      <td>62356</td>\n",
       "    </tr>\n",
       "    <tr>\n",
       "      <th>01797</th>\n",
       "      <td>no</td>\n",
       "      <td>no</td>\n",
       "      <td>yes</td>\n",
       "      <td>0</td>\n",
       "      <td>4649</td>\n",
       "      <td>50111</td>\n",
       "      <td>0</td>\n",
       "      <td>5234</td>\n",
       "      <td>49777</td>\n",
       "    </tr>\n",
       "    <tr>\n",
       "      <th>01798</th>\n",
       "      <td>yes</td>\n",
       "      <td>yes</td>\n",
       "      <td>yes</td>\n",
       "      <td>4775</td>\n",
       "      <td>5175</td>\n",
       "      <td>44660</td>\n",
       "      <td>4666</td>\n",
       "      <td>5307</td>\n",
       "      <td>44750</td>\n",
       "    </tr>\n",
       "  </tbody>\n",
       "</table>\n",
       "<p>219 rows × 9 columns</p>\n",
       "</div>"
      ],
      "text/plain": [
       "        contains_ET contains_TC contains_WT old_ET old_TC  old_WT new_ET  \\\n",
       "scan_id                                                                    \n",
       "00001           yes         yes         yes  22749  17922   86622  21959   \n",
       "00013           yes         yes         yes  42836  25682   41686  41476   \n",
       "00015           yes         yes         yes  32602  11045  177933  31849   \n",
       "00027           yes         yes         yes  20823  13861   26689  20080   \n",
       "00037           yes         yes         yes   6270    857   39911   6176   \n",
       "...             ...         ...         ...    ...    ...     ...    ...   \n",
       "01794           yes         yes         yes   9396    720   20470   9321   \n",
       "01795           yes         yes         yes  16161   3288   46706  15865   \n",
       "01796           yes         yes         yes   3411    128   62058   3348   \n",
       "01797            no          no         yes      0   4649   50111      0   \n",
       "01798           yes         yes         yes   4775   5175   44660   4666   \n",
       "\n",
       "        new_TC  new_WT  \n",
       "scan_id                 \n",
       "00001    18763   86857  \n",
       "00013    27181   42105  \n",
       "00015    11856  178397  \n",
       "00027    14658   26913  \n",
       "00037      937   40042  \n",
       "...        ...     ...  \n",
       "01794      806   20534  \n",
       "01795     3679   46712  \n",
       "01796      199   62356  \n",
       "01797     5234   49777  \n",
       "01798     5307   44750  \n",
       "\n",
       "[219 rows x 9 columns]"
      ]
     },
     "execution_count": 11,
     "metadata": {},
     "output_type": "execute_result"
    }
   ],
   "source": [
    "tumor_presence"
   ]
  },
  {
   "cell_type": "markdown",
   "id": "4b649338-b3bd-4bc2-b553-2bc7440589f3",
   "metadata": {},
   "source": [
    "## Decision tree"
   ]
  },
  {
   "cell_type": "code",
   "execution_count": 12,
   "id": "e479d5b4-d1ba-41d0-8638-e901f29ec37f",
   "metadata": {},
   "outputs": [],
   "source": [
    "tree_clf = tree.DecisionTreeClassifier(max_depth=2)\n",
    "tree_clf = tree_clf.fit(tumor_presence.loc[tumor_presence[\"new_ET\"] != 0, [\"new_ET\", \"new_TC\", \"new_WT\"]], tumor_presence.contains_ET[tumor_presence[\"new_ET\"] != 0])"
   ]
  },
  {
   "cell_type": "code",
   "execution_count": 13,
   "id": "0fb55ee2-2e8b-491f-bdcc-6eaf42db8808",
   "metadata": {},
   "outputs": [
    {
     "data": {
      "image/png": "[encoded data removed]",
      "text/plain": [
       "<Figure size 864x576 with 1 Axes>"
      ]
     },
     "metadata": {
      "needs_background": "light"
     },
     "output_type": "display_data"
    }
   ],
   "source": [
    "plt.figure(figsize=(12, 8))\n",
    "tree.plot_tree(tree_clf);"
   ]
  },
  {
   "cell_type": "code",
   "execution_count": 12,
   "id": "b8378834-e38a-43c8-972d-fdf7aacc5b03",
   "metadata": {},
   "outputs": [],
   "source": [
    "def use_dt_thresholds(sample):\n",
    "    if sample[0] <= 129.5 and sample[1] > 16954.0:\n",
    "        return True\n",
    "    return False"
   ]
  },
  {
   "cell_type": "code",
   "execution_count": 13,
   "id": "5aec5345-cd2a-431e-bc87-06049c0dba06",
   "metadata": {},
   "outputs": [
    {
     "data": {
      "text/html": [
       "<div>\n",
       "<style scoped>\n",
       "    .dataframe tbody tr th:only-of-type {\n",
       "        vertical-align: middle;\n",
       "    }\n",
       "\n",
       "    .dataframe tbody tr th {\n",
       "        vertical-align: top;\n",
       "    }\n",
       "\n",
       "    .dataframe thead th {\n",
       "        text-align: right;\n",
       "    }\n",
       "</style>\n",
       "<table border=\"1\" class=\"dataframe\">\n",
       "  <thead>\n",
       "    <tr style=\"text-align: right;\">\n",
       "      <th></th>\n",
       "      <th>contains_ET</th>\n",
       "      <th>contains_TC</th>\n",
       "      <th>contains_WT</th>\n",
       "      <th>old_ET</th>\n",
       "      <th>old_TC</th>\n",
       "      <th>old_WT</th>\n",
       "      <th>new_ET</th>\n",
       "      <th>new_TC</th>\n",
       "      <th>new_WT</th>\n",
       "      <th>remove</th>\n",
       "    </tr>\n",
       "    <tr>\n",
       "      <th>scan_id</th>\n",
       "      <th></th>\n",
       "      <th></th>\n",
       "      <th></th>\n",
       "      <th></th>\n",
       "      <th></th>\n",
       "      <th></th>\n",
       "      <th></th>\n",
       "      <th></th>\n",
       "      <th></th>\n",
       "      <th></th>\n",
       "    </tr>\n",
       "  </thead>\n",
       "  <tbody>\n",
       "    <tr>\n",
       "      <th>00163</th>\n",
       "      <td>no</td>\n",
       "      <td>yes</td>\n",
       "      <td>yes</td>\n",
       "      <td>10</td>\n",
       "      <td>21264</td>\n",
       "      <td>9106</td>\n",
       "      <td>1</td>\n",
       "      <td>21869</td>\n",
       "      <td>8818</td>\n",
       "      <td>True</td>\n",
       "    </tr>\n",
       "    <tr>\n",
       "      <th>00252</th>\n",
       "      <td>no</td>\n",
       "      <td>no</td>\n",
       "      <td>yes</td>\n",
       "      <td>0</td>\n",
       "      <td>0</td>\n",
       "      <td>15919</td>\n",
       "      <td>0</td>\n",
       "      <td>0</td>\n",
       "      <td>15992</td>\n",
       "      <td>False</td>\n",
       "    </tr>\n",
       "    <tr>\n",
       "      <th>01718</th>\n",
       "      <td>no</td>\n",
       "      <td>yes</td>\n",
       "      <td>yes</td>\n",
       "      <td>9</td>\n",
       "      <td>50963</td>\n",
       "      <td>42835</td>\n",
       "      <td>0</td>\n",
       "      <td>51778</td>\n",
       "      <td>42348</td>\n",
       "      <td>True</td>\n",
       "    </tr>\n",
       "    <tr>\n",
       "      <th>01719</th>\n",
       "      <td>no</td>\n",
       "      <td>yes</td>\n",
       "      <td>yes</td>\n",
       "      <td>3</td>\n",
       "      <td>7594</td>\n",
       "      <td>9017</td>\n",
       "      <td>1</td>\n",
       "      <td>7733</td>\n",
       "      <td>9214</td>\n",
       "      <td>False</td>\n",
       "    </tr>\n",
       "    <tr>\n",
       "      <th>01720</th>\n",
       "      <td>no</td>\n",
       "      <td>yes</td>\n",
       "      <td>yes</td>\n",
       "      <td>18</td>\n",
       "      <td>22728</td>\n",
       "      <td>18830</td>\n",
       "      <td>1</td>\n",
       "      <td>23471</td>\n",
       "      <td>18235</td>\n",
       "      <td>True</td>\n",
       "    </tr>\n",
       "    <tr>\n",
       "      <th>01724</th>\n",
       "      <td>no</td>\n",
       "      <td>yes</td>\n",
       "      <td>yes</td>\n",
       "      <td>137</td>\n",
       "      <td>23016</td>\n",
       "      <td>6526</td>\n",
       "      <td>107</td>\n",
       "      <td>23354</td>\n",
       "      <td>6334</td>\n",
       "      <td>True</td>\n",
       "    </tr>\n",
       "    <tr>\n",
       "      <th>01727</th>\n",
       "      <td>no</td>\n",
       "      <td>yes</td>\n",
       "      <td>yes</td>\n",
       "      <td>0</td>\n",
       "      <td>53890</td>\n",
       "      <td>26897</td>\n",
       "      <td>0</td>\n",
       "      <td>54311</td>\n",
       "      <td>26634</td>\n",
       "      <td>True</td>\n",
       "    </tr>\n",
       "    <tr>\n",
       "      <th>01729</th>\n",
       "      <td>no</td>\n",
       "      <td>yes</td>\n",
       "      <td>yes</td>\n",
       "      <td>181</td>\n",
       "      <td>152567</td>\n",
       "      <td>91720</td>\n",
       "      <td>60</td>\n",
       "      <td>156544</td>\n",
       "      <td>88459</td>\n",
       "      <td>True</td>\n",
       "    </tr>\n",
       "    <tr>\n",
       "      <th>01731</th>\n",
       "      <td>yes</td>\n",
       "      <td>yes</td>\n",
       "      <td>yes</td>\n",
       "      <td>0</td>\n",
       "      <td>53864</td>\n",
       "      <td>36127</td>\n",
       "      <td>0</td>\n",
       "      <td>54324</td>\n",
       "      <td>35834</td>\n",
       "      <td>True</td>\n",
       "    </tr>\n",
       "    <tr>\n",
       "      <th>01732</th>\n",
       "      <td>no</td>\n",
       "      <td>yes</td>\n",
       "      <td>yes</td>\n",
       "      <td>146</td>\n",
       "      <td>77735</td>\n",
       "      <td>153268</td>\n",
       "      <td>114</td>\n",
       "      <td>79332</td>\n",
       "      <td>152447</td>\n",
       "      <td>True</td>\n",
       "    </tr>\n",
       "    <tr>\n",
       "      <th>01736</th>\n",
       "      <td>no</td>\n",
       "      <td>yes</td>\n",
       "      <td>yes</td>\n",
       "      <td>0</td>\n",
       "      <td>12302</td>\n",
       "      <td>20490</td>\n",
       "      <td>0</td>\n",
       "      <td>12897</td>\n",
       "      <td>20004</td>\n",
       "      <td>False</td>\n",
       "    </tr>\n",
       "    <tr>\n",
       "      <th>01738</th>\n",
       "      <td>no</td>\n",
       "      <td>yes</td>\n",
       "      <td>yes</td>\n",
       "      <td>263</td>\n",
       "      <td>16563</td>\n",
       "      <td>24395</td>\n",
       "      <td>124</td>\n",
       "      <td>17490</td>\n",
       "      <td>23727</td>\n",
       "      <td>True</td>\n",
       "    </tr>\n",
       "    <tr>\n",
       "      <th>01741</th>\n",
       "      <td>no</td>\n",
       "      <td>yes</td>\n",
       "      <td>yes</td>\n",
       "      <td>319</td>\n",
       "      <td>13255</td>\n",
       "      <td>23654</td>\n",
       "      <td>209</td>\n",
       "      <td>13617</td>\n",
       "      <td>23476</td>\n",
       "      <td>False</td>\n",
       "    </tr>\n",
       "    <tr>\n",
       "      <th>01742</th>\n",
       "      <td>no</td>\n",
       "      <td>yes</td>\n",
       "      <td>yes</td>\n",
       "      <td>0</td>\n",
       "      <td>0</td>\n",
       "      <td>22934</td>\n",
       "      <td>0</td>\n",
       "      <td>1</td>\n",
       "      <td>22976</td>\n",
       "      <td>False</td>\n",
       "    </tr>\n",
       "    <tr>\n",
       "      <th>01743</th>\n",
       "      <td>no</td>\n",
       "      <td>yes</td>\n",
       "      <td>yes</td>\n",
       "      <td>0</td>\n",
       "      <td>251</td>\n",
       "      <td>3832</td>\n",
       "      <td>0</td>\n",
       "      <td>356</td>\n",
       "      <td>3764</td>\n",
       "      <td>False</td>\n",
       "    </tr>\n",
       "    <tr>\n",
       "      <th>01744</th>\n",
       "      <td>no</td>\n",
       "      <td>yes</td>\n",
       "      <td>yes</td>\n",
       "      <td>13</td>\n",
       "      <td>47551</td>\n",
       "      <td>82867</td>\n",
       "      <td>5</td>\n",
       "      <td>48924</td>\n",
       "      <td>81811</td>\n",
       "      <td>True</td>\n",
       "    </tr>\n",
       "    <tr>\n",
       "      <th>01747</th>\n",
       "      <td>no</td>\n",
       "      <td>yes</td>\n",
       "      <td>yes</td>\n",
       "      <td>0</td>\n",
       "      <td>2259</td>\n",
       "      <td>22600</td>\n",
       "      <td>0</td>\n",
       "      <td>2823</td>\n",
       "      <td>22094</td>\n",
       "      <td>False</td>\n",
       "    </tr>\n",
       "    <tr>\n",
       "      <th>01797</th>\n",
       "      <td>no</td>\n",
       "      <td>no</td>\n",
       "      <td>yes</td>\n",
       "      <td>0</td>\n",
       "      <td>4649</td>\n",
       "      <td>50111</td>\n",
       "      <td>0</td>\n",
       "      <td>5234</td>\n",
       "      <td>49777</td>\n",
       "      <td>False</td>\n",
       "    </tr>\n",
       "  </tbody>\n",
       "</table>\n",
       "</div>"
      ],
      "text/plain": [
       "        contains_ET contains_TC contains_WT old_ET  old_TC  old_WT new_ET  \\\n",
       "scan_id                                                                     \n",
       "00163            no         yes         yes     10   21264    9106      1   \n",
       "00252            no          no         yes      0       0   15919      0   \n",
       "01718            no         yes         yes      9   50963   42835      0   \n",
       "01719            no         yes         yes      3    7594    9017      1   \n",
       "01720            no         yes         yes     18   22728   18830      1   \n",
       "01724            no         yes         yes    137   23016    6526    107   \n",
       "01727            no         yes         yes      0   53890   26897      0   \n",
       "01729            no         yes         yes    181  152567   91720     60   \n",
       "01731           yes         yes         yes      0   53864   36127      0   \n",
       "01732            no         yes         yes    146   77735  153268    114   \n",
       "01736            no         yes         yes      0   12302   20490      0   \n",
       "01738            no         yes         yes    263   16563   24395    124   \n",
       "01741            no         yes         yes    319   13255   23654    209   \n",
       "01742            no         yes         yes      0       0   22934      0   \n",
       "01743            no         yes         yes      0     251    3832      0   \n",
       "01744            no         yes         yes     13   47551   82867      5   \n",
       "01747            no         yes         yes      0    2259   22600      0   \n",
       "01797            no          no         yes      0    4649   50111      0   \n",
       "\n",
       "         new_TC  new_WT remove  \n",
       "scan_id                         \n",
       "00163     21869    8818   True  \n",
       "00252         0   15992  False  \n",
       "01718     51778   42348   True  \n",
       "01719      7733    9214  False  \n",
       "01720     23471   18235   True  \n",
       "01724     23354    6334   True  \n",
       "01727     54311   26634   True  \n",
       "01729    156544   88459   True  \n",
       "01731     54324   35834   True  \n",
       "01732     79332  152447   True  \n",
       "01736     12897   20004  False  \n",
       "01738     17490   23727   True  \n",
       "01741     13617   23476  False  \n",
       "01742         1   22976  False  \n",
       "01743       356    3764  False  \n",
       "01744     48924   81811   True  \n",
       "01747      2823   22094  False  \n",
       "01797      5234   49777  False  "
      ]
     },
     "execution_count": 13,
     "metadata": {},
     "output_type": "execute_result"
    }
   ],
   "source": [
    "preds = tumor_presence.copy()\n",
    "preds[\"remove\"] = None\n",
    "for iid, row in preds.iterrows():\n",
    "    preds.loc[iid, \"remove\"] = use_dt_thresholds(row[6:8]) \n",
    "    \n",
    "preds[(preds.contains_ET == \"no\") | (preds.remove == True)]"
   ]
  },
  {
   "cell_type": "code",
   "execution_count": 16,
   "id": "6ba9bd1f-d7b5-4657-af57-edd200b92198",
   "metadata": {},
   "outputs": [],
   "source": [
    "DT_ON_NEW_THREHOLDS = Path(\"/sc-scratch/sc-scratch-gbm-radiomics/validation_data/predictions/NewPredictions\")\n",
    "\n",
    "with open(DT_ON_NEW_THREHOLDS / \"dt_on_new_thresholds.pkl\", mode=\"wb\") as f:\n",
    "    pickle.dump(list(preds.remove), f)\n",
    "\n",
    "p = bu.load_pickle(DT_ON_NEW_THREHOLDS / \"dt_on_new_thresholds.pkl\")"
   ]
  },
  {
   "cell_type": "markdown",
   "id": "6c74b3c7-3ee9-4091-8cf4-03b166b7677d",
   "metadata": {},
   "source": [
    "## ET and NC Union approach to detect suspects\n",
    "- 1 = Edema\n",
    "- 2 = Necrotic\n",
    "- 3 = Enhancing"
   ]
  },
  {
   "cell_type": "code",
   "execution_count": 25,
   "id": "39aaf9b2-486c-4716-a425-a2e9f1ca0924",
   "metadata": {},
   "outputs": [],
   "source": [
    "def plot(img):\n",
    "    return px.imshow(img, animation_frame=0, binary_string=True)"
   ]
  },
  {
   "cell_type": "code",
   "execution_count": 92,
   "id": "ca607dde-7ea7-4b2d-a1a1-4d12108e16da",
   "metadata": {},
   "outputs": [],
   "source": [
    "def enh_outside_nec(vol):\n",
    "    nec = vol[1] > 0.5\n",
    "    enh = vol[2] > 0.5\n",
    "\n",
    "    union = np.zeros_like(vol[0])\n",
    "    union[vol[1] > 0.5] = 1\n",
    "    union[vol[2] > 0.5] = 1\n",
    "\n",
    "    enh_outside_nec = np.sum(union - nec)\n",
    "\n",
    "    return enh_outside_nec"
   ]
  },
  {
   "cell_type": "code",
   "execution_count": 97,
   "id": "b092b02a-7bd6-4e92-9fa8-bba78268c378",
   "metadata": {},
   "outputs": [],
   "source": [
    "enhancing_df = preds.copy()"
   ]
  },
  {
   "cell_type": "code",
   "execution_count": 113,
   "id": "03b9ab37-19a5-418a-80bf-754352e6729a",
   "metadata": {},
   "outputs": [],
   "source": [
    "enhancing_df[\"ET_outside\"] = None"
   ]
  },
  {
   "cell_type": "code",
   "execution_count": 114,
   "id": "f6e25a4a-e544-44f4-af96-69e11e9e3864",
   "metadata": {},
   "outputs": [
    {
     "name": "stderr",
     "output_type": "stream",
     "text": [
      "100%|██████████| 219/219 [00:45<00:00,  4.78it/s]\n"
     ]
    }
   ],
   "source": [
    "for sid, _ in tqdm(list(tumor_presence.iterrows())):\n",
    "    volume = loader[sid]\n",
    "\n",
    "    enhancing_df.loc[sid, \"ET_outside\"] = enh_outside_nec(volume)"
   ]
  },
  {
   "cell_type": "code",
   "execution_count": 116,
   "id": "69815917-4269-43ed-b2f2-745f50914cb5",
   "metadata": {},
   "outputs": [
    {
     "data": {
      "application/vnd.plotly.v1+json": {
       "config": {
        "plotlyServerURL": "https://plot.ly"
       },
       "data": [
        {
         "alignmentgroup": "True",
         "bingroup": "x",
         "hovertemplate": "# ET pixels outside of NC=%{x}<br>count=%{y}<extra></extra>",
         "legendgroup": "",
         "marker": {
          "color": "#636efa",
          "pattern": {
           "shape": ""
          }
         },
         "name": "",
         "nbinsx": 150,
         "offsetgroup": "",
         "orientation": "v",
         "showlegend": false,
         "type": "histogram",
         "x": [
          98,
          185,
          82,
          59,
          31,
          30,
          38,
          62,
          90,
          154,
          4,
          67,
          31,
          1,
          22,
          195,
          3,
          31,
          17,
          0,
          21,
          30,
          44,
          8,
          6,
          11,
          1,
          27,
          0,
          0,
          7,
          7,
          8,
          1,
          24,
          163,
          31,
          2,
          17,
          16,
          2,
          18,
          167,
          30,
          1,
          81,
          7,
          19,
          38,
          25,
          52,
          9,
          232,
          56,
          72,
          72,
          10,
          25,
          81,
          91,
          25,
          162,
          60,
          27,
          74,
          118,
          43,
          114,
          64,
          17,
          112,
          319,
          147,
          4,
          60,
          136,
          3,
          8,
          58,
          51,
          58,
          23,
          4,
          78,
          53,
          4,
          6,
          17,
          0,
          1,
          33,
          1,
          1,
          3,
          40,
          34,
          0,
          1,
          1,
          5,
          2,
          19,
          0,
          9,
          32,
          29,
          4,
          2,
          0,
          56,
          19,
          3,
          104,
          70,
          84,
          11,
          17,
          0,
          13,
          7,
          93,
          15,
          5,
          1,
          2,
          154,
          43,
          18,
          46,
          58,
          30,
          47,
          50,
          26,
          28,
          8,
          37,
          5,
          0,
          0,
          0,
          0,
          0,
          2,
          0,
          0,
          15,
          0,
          0,
          0,
          0,
          0,
          0,
          24,
          0,
          4,
          0,
          0,
          0,
          0,
          0,
          0,
          0,
          0,
          0,
          10,
          4,
          0,
          4,
          0,
          0,
          1,
          0,
          5,
          0,
          0,
          16,
          24,
          8,
          22,
          7,
          11,
          46,
          39,
          4,
          32,
          17,
          57,
          31,
          3,
          13,
          3,
          9,
          0,
          0,
          10,
          5,
          156,
          15,
          31,
          3,
          4,
          5,
          0,
          0,
          0,
          71,
          1,
          61,
          31,
          8,
          114,
          0,
          36,
          7,
          6,
          6,
          0,
          6
         ],
         "xaxis": "x",
         "yaxis": "y"
        }
       ],
       "layout": {
        "autosize": true,
        "barmode": "relative",
        "legend": {
         "tracegroupgap": 0
        },
        "margin": {
         "t": 60
        },
        "template": {
         "data": {
          "bar": [
           {
            "error_x": {
             "color": "#2a3f5f"
            },
            "error_y": {
             "color": "#2a3f5f"
            },
            "marker": {
             "line": {
              "color": "#E5ECF6",
              "width": 0.5
             },
             "pattern": {
              "fillmode": "overlay",
              "size": 10,
              "solidity": 0.2
             }
            },
            "type": "bar"
           }
          ],
          "barpolar": [
           {
            "marker": {
             "line": {
              "color": "#E5ECF6",
              "width": 0.5
             },
             "pattern": {
              "fillmode": "overlay",
              "size": 10,
              "solidity": 0.2
             }
            },
            "type": "barpolar"
           }
          ],
          "carpet": [
           {
            "aaxis": {
             "endlinecolor": "#2a3f5f",
             "gridcolor": "white",
             "linecolor": "white",
             "minorgridcolor": "white",
             "startlinecolor": "#2a3f5f"
            },
            "baxis": {
             "endlinecolor": "#2a3f5f",
             "gridcolor": "white",
             "linecolor": "white",
             "minorgridcolor": "white",
             "startlinecolor": "#2a3f5f"
            },
            "type": "carpet"
           }
          ],
          "choropleth": [
           {
            "colorbar": {
             "outlinewidth": 0,
             "ticks": ""
            },
            "type": "choropleth"
           }
          ],
          "contour": [
           {
            "colorbar": {
             "outlinewidth": 0,
             "ticks": ""
            },
            "colorscale": [
             [
              0,
              "#0d0887"
             ],
             [
              0.1111111111111111,
              "#46039f"
             ],
             [
              0.2222222222222222,
              "#7201a8"
             ],
             [
              0.3333333333333333,
              "#9c179e"
             ],
             [
              0.4444444444444444,
              "#bd3786"
             ],
             [
              0.5555555555555556,
              "#d8576b"
             ],
             [
              0.6666666666666666,
              "#ed7953"
             ],
             [
              0.7777777777777778,
              "#fb9f3a"
             ],
             [
              0.8888888888888888,
              "#fdca26"
             ],
             [
              1,
              "#f0f921"
             ]
            ],
            "type": "contour"
           }
          ],
          "contourcarpet": [
           {
            "colorbar": {
             "outlinewidth": 0,
             "ticks": ""
            },
            "type": "contourcarpet"
           }
          ],
          "heatmap": [
           {
            "colorbar": {
             "outlinewidth": 0,
             "ticks": ""
            },
            "colorscale": [
             [
              0,
              "#0d0887"
             ],
             [
              0.1111111111111111,
              "#46039f"
             ],
             [
              0.2222222222222222,
              "#7201a8"
             ],
             [
              0.3333333333333333,
              "#9c179e"
             ],
             [
              0.4444444444444444,
              "#bd3786"
             ],
             [
              0.5555555555555556,
              "#d8576b"
             ],
             [
              0.6666666666666666,
              "#ed7953"
             ],
             [
              0.7777777777777778,
              "#fb9f3a"
             ],
             [
              0.8888888888888888,
              "#fdca26"
             ],
             [
              1,
              "#f0f921"
             ]
            ],
            "type": "heatmap"
           }
          ],
          "heatmapgl": [
           {
            "colorbar": {
             "outlinewidth": 0,
             "ticks": ""
            },
            "colorscale": [
             [
              0,
              "#0d0887"
             ],
             [
              0.1111111111111111,
              "#46039f"
             ],
             [
              0.2222222222222222,
              "#7201a8"
             ],
             [
              0.3333333333333333,
              "#9c179e"
             ],
             [
              0.4444444444444444,
              "#bd3786"
             ],
             [
              0.5555555555555556,
              "#d8576b"
             ],
             [
              0.6666666666666666,
              "#ed7953"
             ],
             [
              0.7777777777777778,
              "#fb9f3a"
             ],
             [
              0.8888888888888888,
              "#fdca26"
             ],
             [
              1,
              "#f0f921"
             ]
            ],
            "type": "heatmapgl"
           }
          ],
          "histogram": [
           {
            "marker": {
             "pattern": {
              "fillmode": "overlay",
              "size": 10,
              "solidity": 0.2
             }
            },
            "type": "histogram"
           }
          ],
          "histogram2d": [
           {
            "colorbar": {
             "outlinewidth": 0,
             "ticks": ""
            },
            "colorscale": [
             [
              0,
              "#0d0887"
             ],
             [
              0.1111111111111111,
              "#46039f"
             ],
             [
              0.2222222222222222,
              "#7201a8"
             ],
             [
              0.3333333333333333,
              "#9c179e"
             ],
             [
              0.4444444444444444,
              "#bd3786"
             ],
             [
              0.5555555555555556,
              "#d8576b"
             ],
             [
              0.6666666666666666,
              "#ed7953"
             ],
             [
              0.7777777777777778,
              "#fb9f3a"
             ],
             [
              0.8888888888888888,
              "#fdca26"
             ],
             [
              1,
              "#f0f921"
             ]
            ],
            "type": "histogram2d"
           }
          ],
          "histogram2dcontour": [
           {
            "colorbar": {
             "outlinewidth": 0,
             "ticks": ""
            },
            "colorscale": [
             [
              0,
              "#0d0887"
             ],
             [
              0.1111111111111111,
              "#46039f"
             ],
             [
              0.2222222222222222,
              "#7201a8"
             ],
             [
              0.3333333333333333,
              "#9c179e"
             ],
             [
              0.4444444444444444,
              "#bd3786"
             ],
             [
              0.5555555555555556,
              "#d8576b"
             ],
             [
              0.6666666666666666,
              "#ed7953"
             ],
             [
              0.7777777777777778,
              "#fb9f3a"
             ],
             [
              0.8888888888888888,
              "#fdca26"
             ],
             [
              1,
              "#f0f921"
             ]
            ],
            "type": "histogram2dcontour"
           }
          ],
          "mesh3d": [
           {
            "colorbar": {
             "outlinewidth": 0,
             "ticks": ""
            },
            "type": "mesh3d"
           }
          ],
          "parcoords": [
           {
            "line": {
             "colorbar": {
              "outlinewidth": 0,
              "ticks": ""
             }
            },
            "type": "parcoords"
           }
          ],
          "pie": [
           {
            "automargin": true,
            "type": "pie"
           }
          ],
          "scatter": [
           {
            "marker": {
             "colorbar": {
              "outlinewidth": 0,
              "ticks": ""
             }
            },
            "type": "scatter"
           }
          ],
          "scatter3d": [
           {
            "line": {
             "colorbar": {
              "outlinewidth": 0,
              "ticks": ""
             }
            },
            "marker": {
             "colorbar": {
              "outlinewidth": 0,
              "ticks": ""
             }
            },
            "type": "scatter3d"
           }
          ],
          "scattercarpet": [
           {
            "marker": {
             "colorbar": {
              "outlinewidth": 0,
              "ticks": ""
             }
            },
            "type": "scattercarpet"
           }
          ],
          "scattergeo": [
           {
            "marker": {
             "colorbar": {
              "outlinewidth": 0,
              "ticks": ""
             }
            },
            "type": "scattergeo"
           }
          ],
          "scattergl": [
           {
            "marker": {
             "colorbar": {
              "outlinewidth": 0,
              "ticks": ""
             }
            },
            "type": "scattergl"
           }
          ],
          "scattermapbox": [
           {
            "marker": {
             "colorbar": {
              "outlinewidth": 0,
              "ticks": ""
             }
            },
            "type": "scattermapbox"
           }
          ],
          "scatterpolar": [
           {
            "marker": {
             "colorbar": {
              "outlinewidth": 0,
              "ticks": ""
             }
            },
            "type": "scatterpolar"
           }
          ],
          "scatterpolargl": [
           {
            "marker": {
             "colorbar": {
              "outlinewidth": 0,
              "ticks": ""
             }
            },
            "type": "scatterpolargl"
           }
          ],
          "scatterternary": [
           {
            "marker": {
             "colorbar": {
              "outlinewidth": 0,
              "ticks": ""
             }
            },
            "type": "scatterternary"
           }
          ],
          "surface": [
           {
            "colorbar": {
             "outlinewidth": 0,
             "ticks": ""
            },
            "colorscale": [
             [
              0,
              "#0d0887"
             ],
             [
              0.1111111111111111,
              "#46039f"
             ],
             [
              0.2222222222222222,
              "#7201a8"
             ],
             [
              0.3333333333333333,
              "#9c179e"
             ],
             [
              0.4444444444444444,
              "#bd3786"
             ],
             [
              0.5555555555555556,
              "#d8576b"
             ],
             [
              0.6666666666666666,
              "#ed7953"
             ],
             [
              0.7777777777777778,
              "#fb9f3a"
             ],
             [
              0.8888888888888888,
              "#fdca26"
             ],
             [
              1,
              "#f0f921"
             ]
            ],
            "type": "surface"
           }
          ],
          "table": [
           {
            "cells": {
             "fill": {
              "color": "#EBF0F8"
             },
             "line": {
              "color": "white"
             }
            },
            "header": {
             "fill": {
              "color": "#C8D4E3"
             },
             "line": {
              "color": "white"
             }
            },
            "type": "table"
           }
          ]
         },
         "layout": {
          "annotationdefaults": {
           "arrowcolor": "#2a3f5f",
           "arrowhead": 0,
           "arrowwidth": 1
          },
          "autotypenumbers": "strict",
          "coloraxis": {
           "colorbar": {
            "outlinewidth": 0,
            "ticks": ""
           }
          },
          "colorscale": {
           "diverging": [
            [
             0,
             "#8e0152"
            ],
            [
             0.1,
             "#c51b7d"
            ],
            [
             0.2,
             "#de77ae"
            ],
            [
             0.3,
             "#f1b6da"
            ],
            [
             0.4,
             "#fde0ef"
            ],
            [
             0.5,
             "#f7f7f7"
            ],
            [
             0.6,
             "#e6f5d0"
            ],
            [
             0.7,
             "#b8e186"
            ],
            [
             0.8,
             "#7fbc41"
            ],
            [
             0.9,
             "#4d9221"
            ],
            [
             1,
             "#276419"
            ]
           ],
           "sequential": [
            [
             0,
             "#0d0887"
            ],
            [
             0.1111111111111111,
             "#46039f"
            ],
            [
             0.2222222222222222,
             "#7201a8"
            ],
            [
             0.3333333333333333,
             "#9c179e"
            ],
            [
             0.4444444444444444,
             "#bd3786"
            ],
            [
             0.5555555555555556,
             "#d8576b"
            ],
            [
             0.6666666666666666,
             "#ed7953"
            ],
            [
             0.7777777777777778,
             "#fb9f3a"
            ],
            [
             0.8888888888888888,
             "#fdca26"
            ],
            [
             1,
             "#f0f921"
            ]
           ],
           "sequentialminus": [
            [
             0,
             "#0d0887"
            ],
            [
             0.1111111111111111,
             "#46039f"
            ],
            [
             0.2222222222222222,
             "#7201a8"
            ],
            [
             0.3333333333333333,
             "#9c179e"
            ],
            [
             0.4444444444444444,
             "#bd3786"
            ],
            [
             0.5555555555555556,
             "#d8576b"
            ],
            [
             0.6666666666666666,
             "#ed7953"
            ],
            [
             0.7777777777777778,
             "#fb9f3a"
            ],
            [
             0.8888888888888888,
             "#fdca26"
            ],
            [
             1,
             "#f0f921"
            ]
           ]
          },
          "colorway": [
           "#636efa",
           "#EF553B",
           "#00cc96",
           "#ab63fa",
           "#FFA15A",
           "#19d3f3",
           "#FF6692",
           "#B6E880",
           "#FF97FF",
           "#FECB52"
          ],
          "font": {
           "color": "#2a3f5f"
          },
          "geo": {
           "bgcolor": "white",
           "lakecolor": "white",
           "landcolor": "#E5ECF6",
           "showlakes": true,
           "showland": true,
           "subunitcolor": "white"
          },
          "hoverlabel": {
           "align": "left"
          },
          "hovermode": "closest",
          "mapbox": {
           "style": "light"
          },
          "paper_bgcolor": "white",
          "plot_bgcolor": "#E5ECF6",
          "polar": {
           "angularaxis": {
            "gridcolor": "white",
            "linecolor": "white",
            "ticks": ""
           },
           "bgcolor": "#E5ECF6",
           "radialaxis": {
            "gridcolor": "white",
            "linecolor": "white",
            "ticks": ""
           }
          },
          "scene": {
           "xaxis": {
            "backgroundcolor": "#E5ECF6",
            "gridcolor": "white",
            "gridwidth": 2,
            "linecolor": "white",
            "showbackground": true,
            "ticks": "",
            "zerolinecolor": "white"
           },
           "yaxis": {
            "backgroundcolor": "#E5ECF6",
            "gridcolor": "white",
            "gridwidth": 2,
            "linecolor": "white",
            "showbackground": true,
            "ticks": "",
            "zerolinecolor": "white"
           },
           "zaxis": {
            "backgroundcolor": "#E5ECF6",
            "gridcolor": "white",
            "gridwidth": 2,
            "linecolor": "white",
            "showbackground": true,
            "ticks": "",
            "zerolinecolor": "white"
           }
          },
          "shapedefaults": {
           "line": {
            "color": "#2a3f5f"
           }
          },
          "ternary": {
           "aaxis": {
            "gridcolor": "white",
            "linecolor": "white",
            "ticks": ""
           },
           "baxis": {
            "gridcolor": "white",
            "linecolor": "white",
            "ticks": ""
           },
           "bgcolor": "#E5ECF6",
           "caxis": {
            "gridcolor": "white",
            "linecolor": "white",
            "ticks": ""
           }
          },
          "title": {
           "x": 0.05
          },
          "xaxis": {
           "automargin": true,
           "gridcolor": "white",
           "linecolor": "white",
           "ticks": "",
           "title": {
            "standoff": 15
           },
           "zerolinecolor": "white",
           "zerolinewidth": 2
          },
          "yaxis": {
           "automargin": true,
           "gridcolor": "white",
           "linecolor": "white",
           "ticks": "",
           "title": {
            "standoff": 15
           },
           "zerolinecolor": "white",
           "zerolinewidth": 2
          }
         }
        },
        "xaxis": {
         "anchor": "y",
         "autorange": true,
         "domain": [
          0,
          1
         ],
         "range": [
          -0.5,
          319.5
         ],
         "title": {
          "text": "# ET pixels outside of NC"
         },
         "type": "linear"
        },
        "yaxis": {
         "anchor": "x",
         "autorange": true,
         "domain": [
          0,
          1
         ],
         "range": [
          0,
          83.15789473684211
         ],
         "title": {
          "text": "count"
         }
        }
       }
      },
      "image/png": "[encoded data removed]",
      "text/html": [
       "<div>                            <div id=\"25fcfec0-af58-4755-99a0-ba2824bffb1c\" class=\"plotly-graph-div\" style=\"height:525px; width:100%;\"></div>            <script type=\"text/javascript\">                require([\"plotly\"], function(Plotly) {                    window.PLOTLYENV=window.PLOTLYENV || {};                                    if (document.getElementById(\"25fcfec0-af58-4755-99a0-ba2824bffb1c\")) {                    Plotly.newPlot(                        \"25fcfec0-af58-4755-99a0-ba2824bffb1c\",                        [{\"alignmentgroup\":\"True\",\"bingroup\":\"x\",\"hovertemplate\":\"# ET pixels outside of NC=%{x}<br>count=%{y}<extra></extra>\",\"legendgroup\":\"\",\"marker\":{\"color\":\"#636efa\",\"pattern\":{\"shape\":\"\"}},\"name\":\"\",\"nbinsx\":150,\"offsetgroup\":\"\",\"orientation\":\"v\",\"showlegend\":false,\"type\":\"histogram\",\"x\":[98.0,185.0,82.0,59.0,31.0,30.0,38.0,62.0,90.0,154.0,4.0,67.0,31.0,1.0,22.0,195.0,3.0,31.0,17.0,0.0,21.0,30.0,44.0,8.0,6.0,11.0,1.0,27.0,0.0,0.0,7.0,7.0,8.0,1.0,24.0,163.0,31.0,2.0,17.0,16.0,2.0,18.0,167.0,30.0,1.0,81.0,7.0,19.0,38.0,25.0,52.0,9.0,232.0,56.0,72.0,72.0,10.0,25.0,81.0,91.0,25.0,162.0,60.0,27.0,74.0,118.0,43.0,114.0,64.0,17.0,112.0,319.0,147.0,4.0,60.0,136.0,3.0,8.0,58.0,51.0,58.0,23.0,4.0,78.0,53.0,4.0,6.0,17.0,0.0,1.0,33.0,1.0,1.0,3.0,40.0,34.0,0.0,1.0,1.0,5.0,2.0,19.0,0.0,9.0,32.0,29.0,4.0,2.0,0.0,56.0,19.0,3.0,104.0,70.0,84.0,11.0,17.0,0.0,13.0,7.0,93.0,15.0,5.0,1.0,2.0,154.0,43.0,18.0,46.0,58.0,30.0,47.0,50.0,26.0,28.0,8.0,37.0,5.0,0.0,0.0,0.0,0.0,0.0,2.0,0.0,0.0,15.0,0.0,0.0,0.0,0.0,0.0,0.0,24.0,0.0,4.0,0.0,0.0,0.0,0.0,0.0,0.0,0.0,0.0,0.0,10.0,4.0,0.0,4.0,0.0,0.0,1.0,0.0,5.0,0.0,0.0,16.0,24.0,8.0,22.0,7.0,11.0,46.0,39.0,4.0,32.0,17.0,57.0,31.0,3.0,13.0,3.0,9.0,0.0,0.0,10.0,5.0,156.0,15.0,31.0,3.0,4.0,5.0,0.0,0.0,0.0,71.0,1.0,61.0,31.0,8.0,114.0,0.0,36.0,7.0,6.0,6.0,0.0,6.0],\"xaxis\":\"x\",\"yaxis\":\"y\"}],                        {\"barmode\":\"relative\",\"legend\":{\"tracegroupgap\":0},\"margin\":{\"t\":60},\"template\":{\"data\":{\"bar\":[{\"error_x\":{\"color\":\"#2a3f5f\"},\"error_y\":{\"color\":\"#2a3f5f\"},\"marker\":{\"line\":{\"color\":\"#E5ECF6\",\"width\":0.5},\"pattern\":{\"fillmode\":\"overlay\",\"size\":10,\"solidity\":0.2}},\"type\":\"bar\"}],\"barpolar\":[{\"marker\":{\"line\":{\"color\":\"#E5ECF6\",\"width\":0.5},\"pattern\":{\"fillmode\":\"overlay\",\"size\":10,\"solidity\":0.2}},\"type\":\"barpolar\"}],\"carpet\":[{\"aaxis\":{\"endlinecolor\":\"#2a3f5f\",\"gridcolor\":\"white\",\"linecolor\":\"white\",\"minorgridcolor\":\"white\",\"startlinecolor\":\"#2a3f5f\"},\"baxis\":{\"endlinecolor\":\"#2a3f5f\",\"gridcolor\":\"white\",\"linecolor\":\"white\",\"minorgridcolor\":\"white\",\"startlinecolor\":\"#2a3f5f\"},\"type\":\"carpet\"}],\"choropleth\":[{\"colorbar\":{\"outlinewidth\":0,\"ticks\":\"\"},\"type\":\"choropleth\"}],\"contour\":[{\"colorbar\":{\"outlinewidth\":0,\"ticks\":\"\"},\"colorscale\":[[0.0,\"#0d0887\"],[0.1111111111111111,\"#46039f\"],[0.2222222222222222,\"#7201a8\"],[0.3333333333333333,\"#9c179e\"],[0.4444444444444444,\"#bd3786\"],[0.5555555555555556,\"#d8576b\"],[0.6666666666666666,\"#ed7953\"],[0.7777777777777778,\"#fb9f3a\"],[0.8888888888888888,\"#fdca26\"],[1.0,\"#f0f921\"]],\"type\":\"contour\"}],\"contourcarpet\":[{\"colorbar\":{\"outlinewidth\":0,\"ticks\":\"\"},\"type\":\"contourcarpet\"}],\"heatmap\":[{\"colorbar\":{\"outlinewidth\":0,\"ticks\":\"\"},\"colorscale\":[[0.0,\"#0d0887\"],[0.1111111111111111,\"#46039f\"],[0.2222222222222222,\"#7201a8\"],[0.3333333333333333,\"#9c179e\"],[0.4444444444444444,\"#bd3786\"],[0.5555555555555556,\"#d8576b\"],[0.6666666666666666,\"#ed7953\"],[0.7777777777777778,\"#fb9f3a\"],[0.8888888888888888,\"#fdca26\"],[1.0,\"#f0f921\"]],\"type\":\"heatmap\"}],\"heatmapgl\":[{\"colorbar\":{\"outlinewidth\":0,\"ticks\":\"\"},\"colorscale\":[[0.0,\"#0d0887\"],[0.1111111111111111,\"#46039f\"],[0.2222222222222222,\"#7201a8\"],[0.3333333333333333,\"#9c179e\"],[0.4444444444444444,\"#bd3786\"],[0.5555555555555556,\"#d8576b\"],[0.6666666666666666,\"#ed7953\"],[0.7777777777777778,\"#fb9f3a\"],[0.8888888888888888,\"#fdca26\"],[1.0,\"#f0f921\"]],\"type\":\"heatmapgl\"}],\"histogram\":[{\"marker\":{\"pattern\":{\"fillmode\":\"overlay\",\"size\":10,\"solidity\":0.2}},\"type\":\"histogram\"}],\"histogram2d\":[{\"colorbar\":{\"outlinewidth\":0,\"ticks\":\"\"},\"colorscale\":[[0.0,\"#0d0887\"],[0.1111111111111111,\"#46039f\"],[0.2222222222222222,\"#7201a8\"],[0.3333333333333333,\"#9c179e\"],[0.4444444444444444,\"#bd3786\"],[0.5555555555555556,\"#d8576b\"],[0.6666666666666666,\"#ed7953\"],[0.7777777777777778,\"#fb9f3a\"],[0.8888888888888888,\"#fdca26\"],[1.0,\"#f0f921\"]],\"type\":\"histogram2d\"}],\"histogram2dcontour\":[{\"colorbar\":{\"outlinewidth\":0,\"ticks\":\"\"},\"colorscale\":[[0.0,\"#0d0887\"],[0.1111111111111111,\"#46039f\"],[0.2222222222222222,\"#7201a8\"],[0.3333333333333333,\"#9c179e\"],[0.4444444444444444,\"#bd3786\"],[0.5555555555555556,\"#d8576b\"],[0.6666666666666666,\"#ed7953\"],[0.7777777777777778,\"#fb9f3a\"],[0.8888888888888888,\"#fdca26\"],[1.0,\"#f0f921\"]],\"type\":\"histogram2dcontour\"}],\"mesh3d\":[{\"colorbar\":{\"outlinewidth\":0,\"ticks\":\"\"},\"type\":\"mesh3d\"}],\"parcoords\":[{\"line\":{\"colorbar\":{\"outlinewidth\":0,\"ticks\":\"\"}},\"type\":\"parcoords\"}],\"pie\":[{\"automargin\":true,\"type\":\"pie\"}],\"scatter\":[{\"marker\":{\"colorbar\":{\"outlinewidth\":0,\"ticks\":\"\"}},\"type\":\"scatter\"}],\"scatter3d\":[{\"line\":{\"colorbar\":{\"outlinewidth\":0,\"ticks\":\"\"}},\"marker\":{\"colorbar\":{\"outlinewidth\":0,\"ticks\":\"\"}},\"type\":\"scatter3d\"}],\"scattercarpet\":[{\"marker\":{\"colorbar\":{\"outlinewidth\":0,\"ticks\":\"\"}},\"type\":\"scattercarpet\"}],\"scattergeo\":[{\"marker\":{\"colorbar\":{\"outlinewidth\":0,\"ticks\":\"\"}},\"type\":\"scattergeo\"}],\"scattergl\":[{\"marker\":{\"colorbar\":{\"outlinewidth\":0,\"ticks\":\"\"}},\"type\":\"scattergl\"}],\"scattermapbox\":[{\"marker\":{\"colorbar\":{\"outlinewidth\":0,\"ticks\":\"\"}},\"type\":\"scattermapbox\"}],\"scatterpolar\":[{\"marker\":{\"colorbar\":{\"outlinewidth\":0,\"ticks\":\"\"}},\"type\":\"scatterpolar\"}],\"scatterpolargl\":[{\"marker\":{\"colorbar\":{\"outlinewidth\":0,\"ticks\":\"\"}},\"type\":\"scatterpolargl\"}],\"scatterternary\":[{\"marker\":{\"colorbar\":{\"outlinewidth\":0,\"ticks\":\"\"}},\"type\":\"scatterternary\"}],\"surface\":[{\"colorbar\":{\"outlinewidth\":0,\"ticks\":\"\"},\"colorscale\":[[0.0,\"#0d0887\"],[0.1111111111111111,\"#46039f\"],[0.2222222222222222,\"#7201a8\"],[0.3333333333333333,\"#9c179e\"],[0.4444444444444444,\"#bd3786\"],[0.5555555555555556,\"#d8576b\"],[0.6666666666666666,\"#ed7953\"],[0.7777777777777778,\"#fb9f3a\"],[0.8888888888888888,\"#fdca26\"],[1.0,\"#f0f921\"]],\"type\":\"surface\"}],\"table\":[{\"cells\":{\"fill\":{\"color\":\"#EBF0F8\"},\"line\":{\"color\":\"white\"}},\"header\":{\"fill\":{\"color\":\"#C8D4E3\"},\"line\":{\"color\":\"white\"}},\"type\":\"table\"}]},\"layout\":{\"annotationdefaults\":{\"arrowcolor\":\"#2a3f5f\",\"arrowhead\":0,\"arrowwidth\":1},\"autotypenumbers\":\"strict\",\"coloraxis\":{\"colorbar\":{\"outlinewidth\":0,\"ticks\":\"\"}},\"colorscale\":{\"diverging\":[[0,\"#8e0152\"],[0.1,\"#c51b7d\"],[0.2,\"#de77ae\"],[0.3,\"#f1b6da\"],[0.4,\"#fde0ef\"],[0.5,\"#f7f7f7\"],[0.6,\"#e6f5d0\"],[0.7,\"#b8e186\"],[0.8,\"#7fbc41\"],[0.9,\"#4d9221\"],[1,\"#276419\"]],\"sequential\":[[0.0,\"#0d0887\"],[0.1111111111111111,\"#46039f\"],[0.2222222222222222,\"#7201a8\"],[0.3333333333333333,\"#9c179e\"],[0.4444444444444444,\"#bd3786\"],[0.5555555555555556,\"#d8576b\"],[0.6666666666666666,\"#ed7953\"],[0.7777777777777778,\"#fb9f3a\"],[0.8888888888888888,\"#fdca26\"],[1.0,\"#f0f921\"]],\"sequentialminus\":[[0.0,\"#0d0887\"],[0.1111111111111111,\"#46039f\"],[0.2222222222222222,\"#7201a8\"],[0.3333333333333333,\"#9c179e\"],[0.4444444444444444,\"#bd3786\"],[0.5555555555555556,\"#d8576b\"],[0.6666666666666666,\"#ed7953\"],[0.7777777777777778,\"#fb9f3a\"],[0.8888888888888888,\"#fdca26\"],[1.0,\"#f0f921\"]]},\"colorway\":[\"#636efa\",\"#EF553B\",\"#00cc96\",\"#ab63fa\",\"#FFA15A\",\"#19d3f3\",\"#FF6692\",\"#B6E880\",\"#FF97FF\",\"#FECB52\"],\"font\":{\"color\":\"#2a3f5f\"},\"geo\":{\"bgcolor\":\"white\",\"lakecolor\":\"white\",\"landcolor\":\"#E5ECF6\",\"showlakes\":true,\"showland\":true,\"subunitcolor\":\"white\"},\"hoverlabel\":{\"align\":\"left\"},\"hovermode\":\"closest\",\"mapbox\":{\"style\":\"light\"},\"paper_bgcolor\":\"white\",\"plot_bgcolor\":\"#E5ECF6\",\"polar\":{\"angularaxis\":{\"gridcolor\":\"white\",\"linecolor\":\"white\",\"ticks\":\"\"},\"bgcolor\":\"#E5ECF6\",\"radialaxis\":{\"gridcolor\":\"white\",\"linecolor\":\"white\",\"ticks\":\"\"}},\"scene\":{\"xaxis\":{\"backgroundcolor\":\"#E5ECF6\",\"gridcolor\":\"white\",\"gridwidth\":2,\"linecolor\":\"white\",\"showbackground\":true,\"ticks\":\"\",\"zerolinecolor\":\"white\"},\"yaxis\":{\"backgroundcolor\":\"#E5ECF6\",\"gridcolor\":\"white\",\"gridwidth\":2,\"linecolor\":\"white\",\"showbackground\":true,\"ticks\":\"\",\"zerolinecolor\":\"white\"},\"zaxis\":{\"backgroundcolor\":\"#E5ECF6\",\"gridcolor\":\"white\",\"gridwidth\":2,\"linecolor\":\"white\",\"showbackground\":true,\"ticks\":\"\",\"zerolinecolor\":\"white\"}},\"shapedefaults\":{\"line\":{\"color\":\"#2a3f5f\"}},\"ternary\":{\"aaxis\":{\"gridcolor\":\"white\",\"linecolor\":\"white\",\"ticks\":\"\"},\"baxis\":{\"gridcolor\":\"white\",\"linecolor\":\"white\",\"ticks\":\"\"},\"bgcolor\":\"#E5ECF6\",\"caxis\":{\"gridcolor\":\"white\",\"linecolor\":\"white\",\"ticks\":\"\"}},\"title\":{\"x\":0.05},\"xaxis\":{\"automargin\":true,\"gridcolor\":\"white\",\"linecolor\":\"white\",\"ticks\":\"\",\"title\":{\"standoff\":15},\"zerolinecolor\":\"white\",\"zerolinewidth\":2},\"yaxis\":{\"automargin\":true,\"gridcolor\":\"white\",\"linecolor\":\"white\",\"ticks\":\"\",\"title\":{\"standoff\":15},\"zerolinecolor\":\"white\",\"zerolinewidth\":2}}},\"xaxis\":{\"anchor\":\"y\",\"domain\":[0.0,1.0],\"title\":{\"text\":\"# ET pixels outside of NC\"}},\"yaxis\":{\"anchor\":\"x\",\"domain\":[0.0,1.0],\"title\":{\"text\":\"count\"}}},                        {\"responsive\": true}                    ).then(function(){\n",
       "                            \n",
       "var gd = document.getElementById('25fcfec0-af58-4755-99a0-ba2824bffb1c');\n",
       "var x = new MutationObserver(function (mutations, observer) {{\n",
       "        var display = window.getComputedStyle(gd).display;\n",
       "        if (!display || display === 'none') {{\n",
       "            console.log([gd, 'removed!']);\n",
       "            Plotly.purge(gd);\n",
       "            observer.disconnect();\n",
       "        }}\n",
       "}});\n",
       "\n",
       "// Listen for the removal of the full notebook cells\n",
       "var notebookContainer = gd.closest('#notebook-container');\n",
       "if (notebookContainer) {{\n",
       "    x.observe(notebookContainer, {childList: true});\n",
       "}}\n",
       "\n",
       "// Listen for the clearing of the current output cell\n",
       "var outputEl = gd.closest('.output');\n",
       "if (outputEl) {{\n",
       "    x.observe(outputEl, {childList: true});\n",
       "}}\n",
       "\n",
       "                        })                };                });            </script>        </div>"
      ]
     },
     "metadata": {},
     "output_type": "display_data"
    }
   ],
   "source": [
    "px.histogram(enhancing_df, x=\"ET_outside\", nbins=150, labels={\"ET_outside\": \"# ET pixels outside of NC\"})"
   ]
  },
  {
   "cell_type": "code",
   "execution_count": null,
   "id": "4c64634a-8a4a-4dd1-8806-0baa7e9997d8",
   "metadata": {},
   "outputs": [],
   "source": []
  }
 ],
 "metadata": {
  "kernelspec": {
   "display_name": "Python [conda env:performer]",
   "language": "python",
   "name": "conda-env-performer-py"
  },
  "language_info": {
   "codemirror_mode": {
    "name": "ipython",
    "version": 3
   },
   "file_extension": ".py",
   "mimetype": "text/x-python",
   "name": "python",
   "nbconvert_exporter": "python",
   "pygments_lexer": "ipython3",
   "version": "3.8.10"
  }
 },
 "nbformat": 4,
 "nbformat_minor": 5
}
