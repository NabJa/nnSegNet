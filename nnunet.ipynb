{
 "cells": [
  {
   "cell_type": "markdown",
   "id": "intense-shoulder",
   "metadata": {},
   "source": [
    "# nnUNet model exploration"
   ]
  },
  {
   "cell_type": "code",
   "execution_count": 1,
   "id": "2bdb1f9f-9fbd-49af-abe8-62156855d289",
   "metadata": {},
   "outputs": [],
   "source": [
    "%load_ext autoreload"
   ]
  },
  {
   "cell_type": "code",
   "execution_count": 2,
   "id": "internal-morris",
   "metadata": {},
   "outputs": [
    {
     "name": "stdout",
     "output_type": "stream",
     "text": [
      "\n",
      "\n",
      "Please cite the following paper when using nnUNet:\n",
      "\n",
      "Isensee, F., Jaeger, P.F., Kohl, S.A.A. et al. \"nnU-Net: a self-configuring method for deep learning-based biomedical image segmentation.\" Nat Methods (2020). https://doi.org/10.1038/s41592-020-01008-z\n",
      "\n",
      "\n",
      "If you have questions or suggestions, feel free to open an issue at https://github.com/MIC-DKFZ/nnUNet\n",
      "\n"
     ]
    }
   ],
   "source": [
    "%autoreload 2\n",
    "from pathlib import Path\n",
    "\n",
    "# Computation\n",
    "import torch\n",
    "from torch import nn\n",
    "import numpy as np\n",
    "\n",
    "# Radiology\n",
    "import nibabel as nib\n",
    "\n",
    "# Plotting\n",
    "import matplotlib.pyplot as plt\n",
    "\n",
    "# Custom\n",
    "from brats21 import utils as bu\n",
    "from brats21 import visualisation as vis\n",
    "from nnunet.network_architecture.generic_UNet import Generic_UNet\n",
    "from nnunet.network_architecture.segnet import SegNet"
   ]
  },
  {
   "cell_type": "code",
   "execution_count": 3,
   "id": "140ec8e9-2725-4106-bef2-70cd38e944b8",
   "metadata": {},
   "outputs": [],
   "source": [
    "DEVICE = \"cuda\" if torch.cuda.is_available() else \"cpu\""
   ]
  },
  {
   "cell_type": "code",
   "execution_count": 4,
   "id": "prospective-fountain",
   "metadata": {},
   "outputs": [
    {
     "data": {
      "text/plain": [
       "dict_keys(['num_stages', 'num_modalities', 'modalities', 'normalization_schemes', 'dataset_properties', 'list_of_npz_files', 'original_spacings', 'original_sizes', 'preprocessed_data_folder', 'num_classes', 'all_classes', 'base_num_features', 'use_mask_for_norm', 'keep_only_largest_region', 'min_region_size_per_class', 'min_size_per_class', 'transpose_forward', 'transpose_backward', 'data_identifier', 'plans_per_stage', 'preprocessor_name', 'conv_per_stage'])"
      ]
     },
     "execution_count": 4,
     "metadata": {},
     "output_type": "execute_result"
    }
   ],
   "source": [
    "plans = bu.load_pickle(\"/sc-scratch/sc-scratch-gbm-radiomics/nnUNet_trained_models/nnUNet/3d_fullres/Task500_Brats21/nnUNetTrainerV2BraTSSegnet__nnUNetPlansv2.1/plans.pkl\")\n",
    "plans.keys()"
   ]
  },
  {
   "cell_type": "code",
   "execution_count": 5,
   "id": "ideal-appliance",
   "metadata": {},
   "outputs": [
    {
     "data": {
      "text/plain": [
       "{'batch_size': 2,\n",
       " 'num_pool_per_axis': [5, 5, 5],\n",
       " 'patch_size': array([128, 128, 128]),\n",
       " 'median_patient_size_in_voxels': array([140, 171, 137]),\n",
       " 'current_spacing': array([1., 1., 1.]),\n",
       " 'original_spacing': array([1., 1., 1.]),\n",
       " 'do_dummy_2D_data_aug': False,\n",
       " 'pool_op_kernel_sizes': [[2, 2, 2],\n",
       "  [2, 2, 2],\n",
       "  [2, 2, 2],\n",
       "  [2, 2, 2],\n",
       "  [2, 2, 2]],\n",
       " 'conv_kernel_sizes': [[3, 3, 3],\n",
       "  [3, 3, 3],\n",
       "  [3, 3, 3],\n",
       "  [3, 3, 3],\n",
       "  [3, 3, 3],\n",
       "  [3, 3, 3]]}"
      ]
     },
     "execution_count": 5,
     "metadata": {},
     "output_type": "execute_result"
    }
   ],
   "source": [
    "plans_per_stage = plans[\"plans_per_stage\"][0]\n",
    "plans_per_stage"
   ]
  },
  {
   "cell_type": "code",
   "execution_count": 6,
   "id": "static-slovak",
   "metadata": {},
   "outputs": [],
   "source": [
    "# TODO find defenition in plans\n",
    "NUM_POOL = 5"
   ]
  },
  {
   "cell_type": "code",
   "execution_count": 7,
   "id": "3ae913aa-6f2c-4709-8292-36bb36158838",
   "metadata": {
    "tags": []
   },
   "outputs": [
    {
     "data": {
      "text/plain": [
       "3"
      ]
     },
     "execution_count": 7,
     "metadata": {},
     "output_type": "execute_result"
    }
   ],
   "source": [
    "plans[\"num_classes\"]"
   ]
  },
  {
   "cell_type": "markdown",
   "id": "tired-yorkshire",
   "metadata": {},
   "source": [
    "## Load Generic_UNet"
   ]
  },
  {
   "cell_type": "code",
   "execution_count": null,
   "id": "brutal-acting",
   "metadata": {},
   "outputs": [],
   "source": [
    "BEST_MODEL_PATH = Path(\"/sc-scratch/sc-scratch-gbm-radiomics/nnUNet_trained_models/nnUNet/3d_fullres/Task500_Brats21/nnUNetTrainerV2BraTSSegnet__nnUNetPlansv2.1/fold_4/model_best.model\")"
   ]
  },
  {
   "cell_type": "code",
   "execution_count": null,
   "id": "american-possible",
   "metadata": {},
   "outputs": [],
   "source": [
    "state_dict = torch.load(BEST_MODEL_PATH, map_location=torch.device(DEVICE))[\"state_dict\"]"
   ]
  },
  {
   "cell_type": "code",
   "execution_count": null,
   "id": "vietnamese-anthropology",
   "metadata": {
    "tags": []
   },
   "outputs": [],
   "source": [
    "unet = SegNet(\n",
    "    input_channels=plans[\"num_modalities\"], # Our 4 modalities (FLAIR, T1, T1CE, T2)\n",
    "    base_num_features=plans[\"base_num_features\"], # Determines the featuremap size. Here 32.\n",
    "    num_classes=plans[\"num_classes\"], # Target classes (necrotic, enhancing, edema) + background class\n",
    "    num_pool=NUM_POOL, # Number of localization pathways (for deep supervision???)\n",
    "    conv_op=nn.Conv3d,\n",
    "    norm_op=nn.InstanceNorm3d,\n",
    "    convolutional_pooling=False,\n",
    "    convolutional_upsampling=False,\n",
    ").to(DEVICE)"
   ]
  },
  {
   "cell_type": "code",
   "execution_count": null,
   "id": "raised-disaster",
   "metadata": {},
   "outputs": [],
   "source": [
    "unet.load_state_dict(state_dict, strict=True)"
   ]
  },
  {
   "cell_type": "markdown",
   "id": "distinct-citation",
   "metadata": {},
   "source": [
    "## Run prediction"
   ]
  },
  {
   "cell_type": "markdown",
   "id": "multiple-intro",
   "metadata": {},
   "source": [
    "### On random data"
   ]
  },
  {
   "cell_type": "code",
   "execution_count": null,
   "id": "freelance-waste",
   "metadata": {},
   "outputs": [],
   "source": [
    "sample_shape = [1, plans[\"num_modalities\"]] + list(plans_per_stage[\"patch_size\"] )\n",
    "sample = torch.rand(*sample_shape).to(DEVICE)\n",
    "print(\"Sample input shape:\", sample_shape)"
   ]
  },
  {
   "cell_type": "code",
   "execution_count": null,
   "id": "aerial-manor",
   "metadata": {},
   "outputs": [],
   "source": [
    "output = unet(sample)"
   ]
  },
  {
   "cell_type": "code",
   "execution_count": null,
   "id": "tested-behalf",
   "metadata": {},
   "outputs": [],
   "source": [
    "for i in range(NUM_POOL):\n",
    "    print(f\"Output pool {i} shape: {output[i].shape}\")"
   ]
  },
  {
   "cell_type": "markdown",
   "id": "d951d8ce-41c6-4810-a241-1ceccfc47db9",
   "metadata": {},
   "source": [
    "### Loss"
   ]
  },
  {
   "cell_type": "code",
   "execution_count": null,
   "id": "27552cc8-5639-40eb-802d-497405ea92f5",
   "metadata": {},
   "outputs": [],
   "source": [
    "from nnunet.training.loss_functions.dice_loss import Tversky_and_CE_loss, get_tp_fp_fn_tn, DC_and_CE_loss"
   ]
  },
  {
   "cell_type": "code",
   "execution_count": null,
   "id": "08891d12-4f69-455a-8b53-21b58e0131b3",
   "metadata": {},
   "outputs": [],
   "source": [
    "loss = DC_and_CE_loss({\"batch_dice\": True, \"smooth\": 1e-5, \"do_bg\": False}, {})"
   ]
  },
  {
   "cell_type": "code",
   "execution_count": null,
   "id": "10f4b690-70fb-4bae-9c0a-71d300e2ad84",
   "metadata": {},
   "outputs": [],
   "source": [
    "loss(output[0], sample)"
   ]
  },
  {
   "cell_type": "markdown",
   "id": "3bd03809-69dc-4175-b1f5-662980aaee5f",
   "metadata": {},
   "source": [
    "### Grid Search"
   ]
  },
  {
   "cell_type": "code",
   "execution_count": 11,
   "id": "29080a29-4123-4786-abd6-e084e1b3a7d7",
   "metadata": {},
   "outputs": [
    {
     "name": "stdout",
     "output_type": "stream",
     "text": [
      "Sample input shape: [1, 4, 128, 128, 128]\n"
     ]
    }
   ],
   "source": [
    "nPoolings = 5, 6\n",
    "nConvolutions = 2, 3, 4\n",
    "\n",
    "sample_shape = [1, plans[\"num_modalities\"]] + list(plans_per_stage[\"patch_size\"] )\n",
    "sample = torch.rand(*sample_shape).to(DEVICE)\n",
    "print(\"Sample input shape:\", sample_shape)"
   ]
  },
  {
   "cell_type": "code",
   "execution_count": 12,
   "id": "ef3620cd-cd82-4a15-8816-848cb594014f",
   "metadata": {},
   "outputs": [
    {
     "name": "stdout",
     "output_type": "stream",
     "text": [
      "Poolings: 5 Convs: 2\n",
      "Poolings: 5 Convs: 3\n",
      "Poolings: 5 Convs: 4\n",
      "Poolings: 6 Convs: 2\n",
      "Poolings: 6 Convs: 3\n",
      "Poolings: 6 Convs: 4\n"
     ]
    }
   ],
   "source": [
    "for pool in nPoolings:\n",
    "    for conv in nConvolutions:\n",
    "        print(f\"Poolings: {pool} Convs: {conv}\")\n",
    "        \n",
    "        unet = SegNet(\n",
    "            input_channels=plans[\"num_modalities\"], # Our 4 modalities (FLAIR, T1, T1CE, T2)\n",
    "            base_num_features=plans[\"base_num_features\"], # Determines the featuremap size. Here 32.\n",
    "            num_classes=plans[\"num_classes\"], # Target classes (necrotic, enhancing, edema) + background class\n",
    "            num_pool=pool,\n",
    "            num_conv_per_stage=conv,\n",
    "            conv_op=nn.Conv3d,\n",
    "            norm_op=nn.InstanceNorm3d,\n",
    "            convolutional_pooling=False,\n",
    "            convolutional_upsampling=False,\n",
    "        ).to(DEVICE)\n",
    "        out = unet(sample)"
   ]
  },
  {
   "cell_type": "code",
   "execution_count": 15,
   "id": "043002f0-fa3d-4e45-8297-5e82b9187ea1",
   "metadata": {
    "collapsed": true,
    "jupyter": {
     "outputs_hidden": true
    },
    "tags": []
   },
   "outputs": [
    {
     "data": {
      "text/plain": [
       "SegNet(\n",
       "  (conv_blocks_localization): ModuleList(\n",
       "    (0): Sequential(\n",
       "      (0): StackedConvLayers(\n",
       "        (blocks): Sequential(\n",
       "          (0): ConvDropoutNonlinNorm(\n",
       "            (conv): Conv3d(640, 320, kernel_size=(3, 3, 3), stride=(1, 1, 1), padding=(1, 1, 1))\n",
       "            (instnorm): InstanceNorm3d(320, eps=1e-05, momentum=0.1, affine=True, track_running_stats=False)\n",
       "            (lrelu): LeakyReLU(negative_slope=0.01, inplace=True)\n",
       "          )\n",
       "          (1): ConvDropoutNonlinNorm(\n",
       "            (conv): Conv3d(320, 320, kernel_size=(3, 3, 3), stride=(1, 1, 1), padding=(1, 1, 1))\n",
       "            (instnorm): InstanceNorm3d(320, eps=1e-05, momentum=0.1, affine=True, track_running_stats=False)\n",
       "            (lrelu): LeakyReLU(negative_slope=0.01, inplace=True)\n",
       "          )\n",
       "          (2): ConvDropoutNonlinNorm(\n",
       "            (conv): Conv3d(320, 320, kernel_size=(3, 3, 3), stride=(1, 1, 1), padding=(1, 1, 1))\n",
       "            (instnorm): InstanceNorm3d(320, eps=1e-05, momentum=0.1, affine=True, track_running_stats=False)\n",
       "            (lrelu): LeakyReLU(negative_slope=0.01, inplace=True)\n",
       "          )\n",
       "        )\n",
       "      )\n",
       "      (1): StackedConvLayers(\n",
       "        (blocks): Sequential(\n",
       "          (0): ConvDropoutNonlinNorm(\n",
       "            (conv): Conv3d(320, 320, kernel_size=(3, 3, 3), stride=(1, 1, 1), padding=(1, 1, 1))\n",
       "            (instnorm): InstanceNorm3d(320, eps=1e-05, momentum=0.1, affine=True, track_running_stats=False)\n",
       "            (lrelu): LeakyReLU(negative_slope=0.01, inplace=True)\n",
       "          )\n",
       "        )\n",
       "      )\n",
       "    )\n",
       "    (1): Sequential(\n",
       "      (0): StackedConvLayers(\n",
       "        (blocks): Sequential(\n",
       "          (0): ConvDropoutNonlinNorm(\n",
       "            (conv): Conv3d(640, 320, kernel_size=(3, 3, 3), stride=(1, 1, 1), padding=(1, 1, 1))\n",
       "            (instnorm): InstanceNorm3d(320, eps=1e-05, momentum=0.1, affine=True, track_running_stats=False)\n",
       "            (lrelu): LeakyReLU(negative_slope=0.01, inplace=True)\n",
       "          )\n",
       "          (1): ConvDropoutNonlinNorm(\n",
       "            (conv): Conv3d(320, 320, kernel_size=(3, 3, 3), stride=(1, 1, 1), padding=(1, 1, 1))\n",
       "            (instnorm): InstanceNorm3d(320, eps=1e-05, momentum=0.1, affine=True, track_running_stats=False)\n",
       "            (lrelu): LeakyReLU(negative_slope=0.01, inplace=True)\n",
       "          )\n",
       "          (2): ConvDropoutNonlinNorm(\n",
       "            (conv): Conv3d(320, 320, kernel_size=(3, 3, 3), stride=(1, 1, 1), padding=(1, 1, 1))\n",
       "            (instnorm): InstanceNorm3d(320, eps=1e-05, momentum=0.1, affine=True, track_running_stats=False)\n",
       "            (lrelu): LeakyReLU(negative_slope=0.01, inplace=True)\n",
       "          )\n",
       "        )\n",
       "      )\n",
       "      (1): StackedConvLayers(\n",
       "        (blocks): Sequential(\n",
       "          (0): ConvDropoutNonlinNorm(\n",
       "            (conv): Conv3d(320, 256, kernel_size=(3, 3, 3), stride=(1, 1, 1), padding=(1, 1, 1))\n",
       "            (instnorm): InstanceNorm3d(256, eps=1e-05, momentum=0.1, affine=True, track_running_stats=False)\n",
       "            (lrelu): LeakyReLU(negative_slope=0.01, inplace=True)\n",
       "          )\n",
       "        )\n",
       "      )\n",
       "    )\n",
       "    (2): Sequential(\n",
       "      (0): StackedConvLayers(\n",
       "        (blocks): Sequential(\n",
       "          (0): ConvDropoutNonlinNorm(\n",
       "            (conv): Conv3d(512, 256, kernel_size=(3, 3, 3), stride=(1, 1, 1), padding=(1, 1, 1))\n",
       "            (instnorm): InstanceNorm3d(256, eps=1e-05, momentum=0.1, affine=True, track_running_stats=False)\n",
       "            (lrelu): LeakyReLU(negative_slope=0.01, inplace=True)\n",
       "          )\n",
       "          (1): ConvDropoutNonlinNorm(\n",
       "            (conv): Conv3d(256, 256, kernel_size=(3, 3, 3), stride=(1, 1, 1), padding=(1, 1, 1))\n",
       "            (instnorm): InstanceNorm3d(256, eps=1e-05, momentum=0.1, affine=True, track_running_stats=False)\n",
       "            (lrelu): LeakyReLU(negative_slope=0.01, inplace=True)\n",
       "          )\n",
       "          (2): ConvDropoutNonlinNorm(\n",
       "            (conv): Conv3d(256, 256, kernel_size=(3, 3, 3), stride=(1, 1, 1), padding=(1, 1, 1))\n",
       "            (instnorm): InstanceNorm3d(256, eps=1e-05, momentum=0.1, affine=True, track_running_stats=False)\n",
       "            (lrelu): LeakyReLU(negative_slope=0.01, inplace=True)\n",
       "          )\n",
       "        )\n",
       "      )\n",
       "      (1): StackedConvLayers(\n",
       "        (blocks): Sequential(\n",
       "          (0): ConvDropoutNonlinNorm(\n",
       "            (conv): Conv3d(256, 128, kernel_size=(3, 3, 3), stride=(1, 1, 1), padding=(1, 1, 1))\n",
       "            (instnorm): InstanceNorm3d(128, eps=1e-05, momentum=0.1, affine=True, track_running_stats=False)\n",
       "            (lrelu): LeakyReLU(negative_slope=0.01, inplace=True)\n",
       "          )\n",
       "        )\n",
       "      )\n",
       "    )\n",
       "    (3): Sequential(\n",
       "      (0): StackedConvLayers(\n",
       "        (blocks): Sequential(\n",
       "          (0): ConvDropoutNonlinNorm(\n",
       "            (conv): Conv3d(256, 128, kernel_size=(3, 3, 3), stride=(1, 1, 1), padding=(1, 1, 1))\n",
       "            (instnorm): InstanceNorm3d(128, eps=1e-05, momentum=0.1, affine=True, track_running_stats=False)\n",
       "            (lrelu): LeakyReLU(negative_slope=0.01, inplace=True)\n",
       "          )\n",
       "          (1): ConvDropoutNonlinNorm(\n",
       "            (conv): Conv3d(128, 128, kernel_size=(3, 3, 3), stride=(1, 1, 1), padding=(1, 1, 1))\n",
       "            (instnorm): InstanceNorm3d(128, eps=1e-05, momentum=0.1, affine=True, track_running_stats=False)\n",
       "            (lrelu): LeakyReLU(negative_slope=0.01, inplace=True)\n",
       "          )\n",
       "          (2): ConvDropoutNonlinNorm(\n",
       "            (conv): Conv3d(128, 128, kernel_size=(3, 3, 3), stride=(1, 1, 1), padding=(1, 1, 1))\n",
       "            (instnorm): InstanceNorm3d(128, eps=1e-05, momentum=0.1, affine=True, track_running_stats=False)\n",
       "            (lrelu): LeakyReLU(negative_slope=0.01, inplace=True)\n",
       "          )\n",
       "        )\n",
       "      )\n",
       "      (1): StackedConvLayers(\n",
       "        (blocks): Sequential(\n",
       "          (0): ConvDropoutNonlinNorm(\n",
       "            (conv): Conv3d(128, 64, kernel_size=(3, 3, 3), stride=(1, 1, 1), padding=(1, 1, 1))\n",
       "            (instnorm): InstanceNorm3d(64, eps=1e-05, momentum=0.1, affine=True, track_running_stats=False)\n",
       "            (lrelu): LeakyReLU(negative_slope=0.01, inplace=True)\n",
       "          )\n",
       "        )\n",
       "      )\n",
       "    )\n",
       "    (4): Sequential(\n",
       "      (0): StackedConvLayers(\n",
       "        (blocks): Sequential(\n",
       "          (0): ConvDropoutNonlinNorm(\n",
       "            (conv): Conv3d(128, 64, kernel_size=(3, 3, 3), stride=(1, 1, 1), padding=(1, 1, 1))\n",
       "            (instnorm): InstanceNorm3d(64, eps=1e-05, momentum=0.1, affine=True, track_running_stats=False)\n",
       "            (lrelu): LeakyReLU(negative_slope=0.01, inplace=True)\n",
       "          )\n",
       "          (1): ConvDropoutNonlinNorm(\n",
       "            (conv): Conv3d(64, 64, kernel_size=(3, 3, 3), stride=(1, 1, 1), padding=(1, 1, 1))\n",
       "            (instnorm): InstanceNorm3d(64, eps=1e-05, momentum=0.1, affine=True, track_running_stats=False)\n",
       "            (lrelu): LeakyReLU(negative_slope=0.01, inplace=True)\n",
       "          )\n",
       "          (2): ConvDropoutNonlinNorm(\n",
       "            (conv): Conv3d(64, 64, kernel_size=(3, 3, 3), stride=(1, 1, 1), padding=(1, 1, 1))\n",
       "            (instnorm): InstanceNorm3d(64, eps=1e-05, momentum=0.1, affine=True, track_running_stats=False)\n",
       "            (lrelu): LeakyReLU(negative_slope=0.01, inplace=True)\n",
       "          )\n",
       "        )\n",
       "      )\n",
       "      (1): StackedConvLayers(\n",
       "        (blocks): Sequential(\n",
       "          (0): ConvDropoutNonlinNorm(\n",
       "            (conv): Conv3d(64, 32, kernel_size=(3, 3, 3), stride=(1, 1, 1), padding=(1, 1, 1))\n",
       "            (instnorm): InstanceNorm3d(32, eps=1e-05, momentum=0.1, affine=True, track_running_stats=False)\n",
       "            (lrelu): LeakyReLU(negative_slope=0.01, inplace=True)\n",
       "          )\n",
       "        )\n",
       "      )\n",
       "    )\n",
       "    (5): Sequential(\n",
       "      (0): StackedConvLayers(\n",
       "        (blocks): Sequential(\n",
       "          (0): ConvDropoutNonlinNorm(\n",
       "            (conv): Conv3d(64, 32, kernel_size=(3, 3, 3), stride=(1, 1, 1), padding=(1, 1, 1))\n",
       "            (instnorm): InstanceNorm3d(32, eps=1e-05, momentum=0.1, affine=True, track_running_stats=False)\n",
       "            (lrelu): LeakyReLU(negative_slope=0.01, inplace=True)\n",
       "          )\n",
       "          (1): ConvDropoutNonlinNorm(\n",
       "            (conv): Conv3d(32, 32, kernel_size=(3, 3, 3), stride=(1, 1, 1), padding=(1, 1, 1))\n",
       "            (instnorm): InstanceNorm3d(32, eps=1e-05, momentum=0.1, affine=True, track_running_stats=False)\n",
       "            (lrelu): LeakyReLU(negative_slope=0.01, inplace=True)\n",
       "          )\n",
       "          (2): ConvDropoutNonlinNorm(\n",
       "            (conv): Conv3d(32, 32, kernel_size=(3, 3, 3), stride=(1, 1, 1), padding=(1, 1, 1))\n",
       "            (instnorm): InstanceNorm3d(32, eps=1e-05, momentum=0.1, affine=True, track_running_stats=False)\n",
       "            (lrelu): LeakyReLU(negative_slope=0.01, inplace=True)\n",
       "          )\n",
       "        )\n",
       "      )\n",
       "      (1): StackedConvLayers(\n",
       "        (blocks): Sequential(\n",
       "          (0): ConvDropoutNonlinNorm(\n",
       "            (conv): Conv3d(32, 32, kernel_size=(3, 3, 3), stride=(1, 1, 1), padding=(1, 1, 1))\n",
       "            (instnorm): InstanceNorm3d(32, eps=1e-05, momentum=0.1, affine=True, track_running_stats=False)\n",
       "            (lrelu): LeakyReLU(negative_slope=0.01, inplace=True)\n",
       "          )\n",
       "        )\n",
       "      )\n",
       "    )\n",
       "  )\n",
       "  (conv_blocks_context): ModuleList(\n",
       "    (0): StackedConvLayers(\n",
       "      (blocks): Sequential(\n",
       "        (0): ConvDropoutNonlinNorm(\n",
       "          (conv): Conv3d(4, 32, kernel_size=(3, 3, 3), stride=(1, 1, 1), padding=(1, 1, 1))\n",
       "          (dropout): Dropout3d(p=0.5, inplace=True)\n",
       "          (instnorm): InstanceNorm3d(32, eps=1e-05, momentum=0.1, affine=True, track_running_stats=False)\n",
       "          (lrelu): LeakyReLU(negative_slope=0.01, inplace=True)\n",
       "        )\n",
       "        (1): ConvDropoutNonlinNorm(\n",
       "          (conv): Conv3d(32, 32, kernel_size=(3, 3, 3), stride=(1, 1, 1), padding=(1, 1, 1))\n",
       "          (dropout): Dropout3d(p=0.5, inplace=True)\n",
       "          (instnorm): InstanceNorm3d(32, eps=1e-05, momentum=0.1, affine=True, track_running_stats=False)\n",
       "          (lrelu): LeakyReLU(negative_slope=0.01, inplace=True)\n",
       "        )\n",
       "        (2): ConvDropoutNonlinNorm(\n",
       "          (conv): Conv3d(32, 32, kernel_size=(3, 3, 3), stride=(1, 1, 1), padding=(1, 1, 1))\n",
       "          (dropout): Dropout3d(p=0.5, inplace=True)\n",
       "          (instnorm): InstanceNorm3d(32, eps=1e-05, momentum=0.1, affine=True, track_running_stats=False)\n",
       "          (lrelu): LeakyReLU(negative_slope=0.01, inplace=True)\n",
       "        )\n",
       "        (3): ConvDropoutNonlinNorm(\n",
       "          (conv): Conv3d(32, 32, kernel_size=(3, 3, 3), stride=(1, 1, 1), padding=(1, 1, 1))\n",
       "          (dropout): Dropout3d(p=0.5, inplace=True)\n",
       "          (instnorm): InstanceNorm3d(32, eps=1e-05, momentum=0.1, affine=True, track_running_stats=False)\n",
       "          (lrelu): LeakyReLU(negative_slope=0.01, inplace=True)\n",
       "        )\n",
       "      )\n",
       "    )\n",
       "    (1): StackedConvLayers(\n",
       "      (blocks): Sequential(\n",
       "        (0): ConvDropoutNonlinNorm(\n",
       "          (conv): Conv3d(32, 64, kernel_size=(3, 3, 3), stride=(1, 1, 1), padding=(1, 1, 1))\n",
       "          (dropout): Dropout3d(p=0.5, inplace=True)\n",
       "          (instnorm): InstanceNorm3d(64, eps=1e-05, momentum=0.1, affine=True, track_running_stats=False)\n",
       "          (lrelu): LeakyReLU(negative_slope=0.01, inplace=True)\n",
       "        )\n",
       "        (1): ConvDropoutNonlinNorm(\n",
       "          (conv): Conv3d(64, 64, kernel_size=(3, 3, 3), stride=(1, 1, 1), padding=(1, 1, 1))\n",
       "          (dropout): Dropout3d(p=0.5, inplace=True)\n",
       "          (instnorm): InstanceNorm3d(64, eps=1e-05, momentum=0.1, affine=True, track_running_stats=False)\n",
       "          (lrelu): LeakyReLU(negative_slope=0.01, inplace=True)\n",
       "        )\n",
       "        (2): ConvDropoutNonlinNorm(\n",
       "          (conv): Conv3d(64, 64, kernel_size=(3, 3, 3), stride=(1, 1, 1), padding=(1, 1, 1))\n",
       "          (dropout): Dropout3d(p=0.5, inplace=True)\n",
       "          (instnorm): InstanceNorm3d(64, eps=1e-05, momentum=0.1, affine=True, track_running_stats=False)\n",
       "          (lrelu): LeakyReLU(negative_slope=0.01, inplace=True)\n",
       "        )\n",
       "        (3): ConvDropoutNonlinNorm(\n",
       "          (conv): Conv3d(64, 64, kernel_size=(3, 3, 3), stride=(1, 1, 1), padding=(1, 1, 1))\n",
       "          (dropout): Dropout3d(p=0.5, inplace=True)\n",
       "          (instnorm): InstanceNorm3d(64, eps=1e-05, momentum=0.1, affine=True, track_running_stats=False)\n",
       "          (lrelu): LeakyReLU(negative_slope=0.01, inplace=True)\n",
       "        )\n",
       "      )\n",
       "    )\n",
       "    (2): StackedConvLayers(\n",
       "      (blocks): Sequential(\n",
       "        (0): ConvDropoutNonlinNorm(\n",
       "          (conv): Conv3d(64, 128, kernel_size=(3, 3, 3), stride=(1, 1, 1), padding=(1, 1, 1))\n",
       "          (dropout): Dropout3d(p=0.5, inplace=True)\n",
       "          (instnorm): InstanceNorm3d(128, eps=1e-05, momentum=0.1, affine=True, track_running_stats=False)\n",
       "          (lrelu): LeakyReLU(negative_slope=0.01, inplace=True)\n",
       "        )\n",
       "        (1): ConvDropoutNonlinNorm(\n",
       "          (conv): Conv3d(128, 128, kernel_size=(3, 3, 3), stride=(1, 1, 1), padding=(1, 1, 1))\n",
       "          (dropout): Dropout3d(p=0.5, inplace=True)\n",
       "          (instnorm): InstanceNorm3d(128, eps=1e-05, momentum=0.1, affine=True, track_running_stats=False)\n",
       "          (lrelu): LeakyReLU(negative_slope=0.01, inplace=True)\n",
       "        )\n",
       "        (2): ConvDropoutNonlinNorm(\n",
       "          (conv): Conv3d(128, 128, kernel_size=(3, 3, 3), stride=(1, 1, 1), padding=(1, 1, 1))\n",
       "          (dropout): Dropout3d(p=0.5, inplace=True)\n",
       "          (instnorm): InstanceNorm3d(128, eps=1e-05, momentum=0.1, affine=True, track_running_stats=False)\n",
       "          (lrelu): LeakyReLU(negative_slope=0.01, inplace=True)\n",
       "        )\n",
       "        (3): ConvDropoutNonlinNorm(\n",
       "          (conv): Conv3d(128, 128, kernel_size=(3, 3, 3), stride=(1, 1, 1), padding=(1, 1, 1))\n",
       "          (dropout): Dropout3d(p=0.5, inplace=True)\n",
       "          (instnorm): InstanceNorm3d(128, eps=1e-05, momentum=0.1, affine=True, track_running_stats=False)\n",
       "          (lrelu): LeakyReLU(negative_slope=0.01, inplace=True)\n",
       "        )\n",
       "      )\n",
       "    )\n",
       "    (3): StackedConvLayers(\n",
       "      (blocks): Sequential(\n",
       "        (0): ConvDropoutNonlinNorm(\n",
       "          (conv): Conv3d(128, 256, kernel_size=(3, 3, 3), stride=(1, 1, 1), padding=(1, 1, 1))\n",
       "          (dropout): Dropout3d(p=0.5, inplace=True)\n",
       "          (instnorm): InstanceNorm3d(256, eps=1e-05, momentum=0.1, affine=True, track_running_stats=False)\n",
       "          (lrelu): LeakyReLU(negative_slope=0.01, inplace=True)\n",
       "        )\n",
       "        (1): ConvDropoutNonlinNorm(\n",
       "          (conv): Conv3d(256, 256, kernel_size=(3, 3, 3), stride=(1, 1, 1), padding=(1, 1, 1))\n",
       "          (dropout): Dropout3d(p=0.5, inplace=True)\n",
       "          (instnorm): InstanceNorm3d(256, eps=1e-05, momentum=0.1, affine=True, track_running_stats=False)\n",
       "          (lrelu): LeakyReLU(negative_slope=0.01, inplace=True)\n",
       "        )\n",
       "        (2): ConvDropoutNonlinNorm(\n",
       "          (conv): Conv3d(256, 256, kernel_size=(3, 3, 3), stride=(1, 1, 1), padding=(1, 1, 1))\n",
       "          (dropout): Dropout3d(p=0.5, inplace=True)\n",
       "          (instnorm): InstanceNorm3d(256, eps=1e-05, momentum=0.1, affine=True, track_running_stats=False)\n",
       "          (lrelu): LeakyReLU(negative_slope=0.01, inplace=True)\n",
       "        )\n",
       "        (3): ConvDropoutNonlinNorm(\n",
       "          (conv): Conv3d(256, 256, kernel_size=(3, 3, 3), stride=(1, 1, 1), padding=(1, 1, 1))\n",
       "          (dropout): Dropout3d(p=0.5, inplace=True)\n",
       "          (instnorm): InstanceNorm3d(256, eps=1e-05, momentum=0.1, affine=True, track_running_stats=False)\n",
       "          (lrelu): LeakyReLU(negative_slope=0.01, inplace=True)\n",
       "        )\n",
       "      )\n",
       "    )\n",
       "    (4): StackedConvLayers(\n",
       "      (blocks): Sequential(\n",
       "        (0): ConvDropoutNonlinNorm(\n",
       "          (conv): Conv3d(256, 320, kernel_size=(3, 3, 3), stride=(1, 1, 1), padding=(1, 1, 1))\n",
       "          (dropout): Dropout3d(p=0.5, inplace=True)\n",
       "          (instnorm): InstanceNorm3d(320, eps=1e-05, momentum=0.1, affine=True, track_running_stats=False)\n",
       "          (lrelu): LeakyReLU(negative_slope=0.01, inplace=True)\n",
       "        )\n",
       "        (1): ConvDropoutNonlinNorm(\n",
       "          (conv): Conv3d(320, 320, kernel_size=(3, 3, 3), stride=(1, 1, 1), padding=(1, 1, 1))\n",
       "          (dropout): Dropout3d(p=0.5, inplace=True)\n",
       "          (instnorm): InstanceNorm3d(320, eps=1e-05, momentum=0.1, affine=True, track_running_stats=False)\n",
       "          (lrelu): LeakyReLU(negative_slope=0.01, inplace=True)\n",
       "        )\n",
       "        (2): ConvDropoutNonlinNorm(\n",
       "          (conv): Conv3d(320, 320, kernel_size=(3, 3, 3), stride=(1, 1, 1), padding=(1, 1, 1))\n",
       "          (dropout): Dropout3d(p=0.5, inplace=True)\n",
       "          (instnorm): InstanceNorm3d(320, eps=1e-05, momentum=0.1, affine=True, track_running_stats=False)\n",
       "          (lrelu): LeakyReLU(negative_slope=0.01, inplace=True)\n",
       "        )\n",
       "        (3): ConvDropoutNonlinNorm(\n",
       "          (conv): Conv3d(320, 320, kernel_size=(3, 3, 3), stride=(1, 1, 1), padding=(1, 1, 1))\n",
       "          (dropout): Dropout3d(p=0.5, inplace=True)\n",
       "          (instnorm): InstanceNorm3d(320, eps=1e-05, momentum=0.1, affine=True, track_running_stats=False)\n",
       "          (lrelu): LeakyReLU(negative_slope=0.01, inplace=True)\n",
       "        )\n",
       "      )\n",
       "    )\n",
       "    (5): StackedConvLayers(\n",
       "      (blocks): Sequential(\n",
       "        (0): ConvDropoutNonlinNorm(\n",
       "          (conv): Conv3d(320, 320, kernel_size=(3, 3, 3), stride=(1, 1, 1), padding=(1, 1, 1))\n",
       "          (dropout): Dropout3d(p=0.5, inplace=True)\n",
       "          (instnorm): InstanceNorm3d(320, eps=1e-05, momentum=0.1, affine=True, track_running_stats=False)\n",
       "          (lrelu): LeakyReLU(negative_slope=0.01, inplace=True)\n",
       "        )\n",
       "        (1): ConvDropoutNonlinNorm(\n",
       "          (conv): Conv3d(320, 320, kernel_size=(3, 3, 3), stride=(1, 1, 1), padding=(1, 1, 1))\n",
       "          (dropout): Dropout3d(p=0.5, inplace=True)\n",
       "          (instnorm): InstanceNorm3d(320, eps=1e-05, momentum=0.1, affine=True, track_running_stats=False)\n",
       "          (lrelu): LeakyReLU(negative_slope=0.01, inplace=True)\n",
       "        )\n",
       "        (2): ConvDropoutNonlinNorm(\n",
       "          (conv): Conv3d(320, 320, kernel_size=(3, 3, 3), stride=(1, 1, 1), padding=(1, 1, 1))\n",
       "          (dropout): Dropout3d(p=0.5, inplace=True)\n",
       "          (instnorm): InstanceNorm3d(320, eps=1e-05, momentum=0.1, affine=True, track_running_stats=False)\n",
       "          (lrelu): LeakyReLU(negative_slope=0.01, inplace=True)\n",
       "        )\n",
       "        (3): ConvDropoutNonlinNorm(\n",
       "          (conv): Conv3d(320, 320, kernel_size=(3, 3, 3), stride=(1, 1, 1), padding=(1, 1, 1))\n",
       "          (dropout): Dropout3d(p=0.5, inplace=True)\n",
       "          (instnorm): InstanceNorm3d(320, eps=1e-05, momentum=0.1, affine=True, track_running_stats=False)\n",
       "          (lrelu): LeakyReLU(negative_slope=0.01, inplace=True)\n",
       "        )\n",
       "      )\n",
       "    )\n",
       "    (6): Sequential(\n",
       "      (0): StackedConvLayers(\n",
       "        (blocks): Sequential(\n",
       "          (0): ConvDropoutNonlinNorm(\n",
       "            (conv): Conv3d(320, 320, kernel_size=(3, 3, 3), stride=(1, 1, 1), padding=(1, 1, 1))\n",
       "            (dropout): Dropout3d(p=0.5, inplace=True)\n",
       "            (instnorm): InstanceNorm3d(320, eps=1e-05, momentum=0.1, affine=True, track_running_stats=False)\n",
       "            (lrelu): LeakyReLU(negative_slope=0.01, inplace=True)\n",
       "          )\n",
       "          (1): ConvDropoutNonlinNorm(\n",
       "            (conv): Conv3d(320, 320, kernel_size=(3, 3, 3), stride=(1, 1, 1), padding=(1, 1, 1))\n",
       "            (dropout): Dropout3d(p=0.5, inplace=True)\n",
       "            (instnorm): InstanceNorm3d(320, eps=1e-05, momentum=0.1, affine=True, track_running_stats=False)\n",
       "            (lrelu): LeakyReLU(negative_slope=0.01, inplace=True)\n",
       "          )\n",
       "          (2): ConvDropoutNonlinNorm(\n",
       "            (conv): Conv3d(320, 320, kernel_size=(3, 3, 3), stride=(1, 1, 1), padding=(1, 1, 1))\n",
       "            (dropout): Dropout3d(p=0.5, inplace=True)\n",
       "            (instnorm): InstanceNorm3d(320, eps=1e-05, momentum=0.1, affine=True, track_running_stats=False)\n",
       "            (lrelu): LeakyReLU(negative_slope=0.01, inplace=True)\n",
       "          )\n",
       "        )\n",
       "      )\n",
       "      (1): StackedConvLayers(\n",
       "        (blocks): Sequential(\n",
       "          (0): ConvDropoutNonlinNorm(\n",
       "            (conv): Conv3d(320, 320, kernel_size=(3, 3, 3), stride=(1, 1, 1), padding=(1, 1, 1))\n",
       "            (dropout): Dropout3d(p=0.5, inplace=True)\n",
       "            (instnorm): InstanceNorm3d(320, eps=1e-05, momentum=0.1, affine=True, track_running_stats=False)\n",
       "            (lrelu): LeakyReLU(negative_slope=0.01, inplace=True)\n",
       "          )\n",
       "        )\n",
       "      )\n",
       "    )\n",
       "  )\n",
       "  (transpose_down): ModuleList(\n",
       "    (0): MaxPool3d(kernel_size=(2, 2, 2), stride=(2, 2, 2), padding=0, dilation=1, ceil_mode=False)\n",
       "    (1): MaxPool3d(kernel_size=(2, 2, 2), stride=(2, 2, 2), padding=0, dilation=1, ceil_mode=False)\n",
       "    (2): MaxPool3d(kernel_size=(2, 2, 2), stride=(2, 2, 2), padding=0, dilation=1, ceil_mode=False)\n",
       "    (3): MaxPool3d(kernel_size=(2, 2, 2), stride=(2, 2, 2), padding=0, dilation=1, ceil_mode=False)\n",
       "    (4): MaxPool3d(kernel_size=(2, 2, 2), stride=(2, 2, 2), padding=0, dilation=1, ceil_mode=False)\n",
       "    (5): MaxPool3d(kernel_size=(2, 2, 2), stride=(2, 2, 2), padding=0, dilation=1, ceil_mode=False)\n",
       "  )\n",
       "  (transpose_up): ModuleList(\n",
       "    (0): MaxUnpool3d(kernel_size=(2, 2, 2), stride=(2, 2, 2), padding=(0, 0, 0))\n",
       "    (1): MaxUnpool3d(kernel_size=(2, 2, 2), stride=(2, 2, 2), padding=(0, 0, 0))\n",
       "    (2): MaxUnpool3d(kernel_size=(2, 2, 2), stride=(2, 2, 2), padding=(0, 0, 0))\n",
       "    (3): MaxUnpool3d(kernel_size=(2, 2, 2), stride=(2, 2, 2), padding=(0, 0, 0))\n",
       "    (4): MaxUnpool3d(kernel_size=(2, 2, 2), stride=(2, 2, 2), padding=(0, 0, 0))\n",
       "    (5): MaxUnpool3d(kernel_size=(2, 2, 2), stride=(2, 2, 2), padding=(0, 0, 0))\n",
       "  )\n",
       "  (seg_outputs): ModuleList(\n",
       "    (0): Conv3d(320, 3, kernel_size=(1, 1, 1), stride=(1, 1, 1), bias=False)\n",
       "    (1): Conv3d(256, 3, kernel_size=(1, 1, 1), stride=(1, 1, 1), bias=False)\n",
       "    (2): Conv3d(128, 3, kernel_size=(1, 1, 1), stride=(1, 1, 1), bias=False)\n",
       "    (3): Conv3d(64, 3, kernel_size=(1, 1, 1), stride=(1, 1, 1), bias=False)\n",
       "    (4): Conv3d(32, 3, kernel_size=(1, 1, 1), stride=(1, 1, 1), bias=False)\n",
       "    (5): Conv3d(32, 3, kernel_size=(1, 1, 1), stride=(1, 1, 1), bias=False)\n",
       "  )\n",
       ")"
      ]
     },
     "execution_count": 15,
     "metadata": {},
     "output_type": "execute_result"
    }
   ],
   "source": [
    "unet"
   ]
  },
  {
   "cell_type": "markdown",
   "id": "fundamental-flesh",
   "metadata": {},
   "source": [
    "### On train data"
   ]
  },
  {
   "cell_type": "code",
   "execution_count": null,
   "id": "fifth-springfield",
   "metadata": {},
   "outputs": [],
   "source": [
    "train_data_path = Path(\"dataset/nnUNet_raw_data_base/nnUNet_raw_data/Task500_Brats21/imagesTr\")"
   ]
  },
  {
   "cell_type": "code",
   "execution_count": null,
   "id": "virtual-cricket",
   "metadata": {},
   "outputs": [],
   "source": [
    "data_generator = bu.NNUnetDataGenerator(train_data_path)"
   ]
  },
  {
   "cell_type": "code",
   "execution_count": null,
   "id": "other-print",
   "metadata": {},
   "outputs": [],
   "source": [
    "real_sample = data_generator[0]\n",
    "real_sample.shape"
   ]
  },
  {
   "cell_type": "code",
   "execution_count": null,
   "id": "owned-emission",
   "metadata": {},
   "outputs": [],
   "source": [
    "output = unet(sample)"
   ]
  },
  {
   "cell_type": "code",
   "execution_count": null,
   "id": "killing-broadway",
   "metadata": {},
   "outputs": [],
   "source": [
    "plt.imshow(real_sample[0, 0, :, :, 55].detach().numpy())"
   ]
  },
  {
   "cell_type": "code",
   "execution_count": null,
   "id": "spatial-russell",
   "metadata": {},
   "outputs": [],
   "source": [
    "plt.imshow(output[0][0, 2, :, :, 55].detach().numpy())\n",
    "plt.colorbar()"
   ]
  },
  {
   "cell_type": "code",
   "execution_count": null,
   "id": "60bdaf42-cb30-4536-932e-c8a039d1884e",
   "metadata": {},
   "outputs": [],
   "source": []
  },
  {
   "cell_type": "markdown",
   "id": "79c354dc-030b-4b12-b3ad-beae601c47b6",
   "metadata": {
    "jupyter": {
     "source_hidden": true
    },
    "tags": []
   },
   "source": [
    "## Plot current progress"
   ]
  },
  {
   "cell_type": "code",
   "execution_count": null,
   "id": "73cd2866-7dcb-4bd0-ba53-714b47c5d9be",
   "metadata": {},
   "outputs": [],
   "source": [
    "data_dir = Path(\"dataset\")"
   ]
  },
  {
   "cell_type": "code",
   "execution_count": null,
   "id": "1996a30b-4d69-4958-a337-84b8ce514c99",
   "metadata": {},
   "outputs": [],
   "source": [
    "fig, axs = vis.plot_nnunet_progress(data_dir, show_pbar=False, grid=True, alpha=.7, lw=2)"
   ]
  }
 ],
 "metadata": {
  "kernelspec": {
   "display_name": "Python [conda env:performer]",
   "language": "python",
   "name": "conda-env-performer-py"
  },
  "language_info": {
   "codemirror_mode": {
    "name": "ipython",
    "version": 3
   },
   "file_extension": ".py",
   "mimetype": "text/x-python",
   "name": "python",
   "nbconvert_exporter": "python",
   "pygments_lexer": "ipython3",
   "version": "3.8.10"
  }
 },
 "nbformat": 4,
 "nbformat_minor": 5
}
