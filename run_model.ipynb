{
 "cells": [
  {
   "cell_type": "code",
   "execution_count": null,
   "id": "4ab20d9c-3e69-416c-882b-5e4aeb83bf42",
   "metadata": {},
   "outputs": [],
   "source": [
    "%matplotlib inline"
   ]
  },
  {
   "cell_type": "code",
   "execution_count": 1,
   "id": "e36d5d36-12d4-45fe-a419-920434a12c32",
   "metadata": {},
   "outputs": [
    {
     "name": "stdout",
     "output_type": "stream",
     "text": [
      "\n",
      "\n",
      "Please cite the following paper when using nnUNet:\n",
      "\n",
      "Isensee, F., Jaeger, P.F., Kohl, S.A.A. et al. \"nnU-Net: a self-configuring method for deep learning-based biomedical image segmentation.\" Nat Methods (2020). https://doi.org/10.1038/s41592-020-01008-z\n",
      "\n",
      "\n",
      "If you have questions or suggestions, feel free to open an issue at https://github.com/MIC-DKFZ/nnUNet\n",
      "\n"
     ]
    }
   ],
   "source": [
    "from IPython.display import clear_output\n",
    "\n",
    "import torch\n",
    "from torch import nn\n",
    "import os\n",
    "import numpy as np\n",
    "from nnunet.run.default_configuration import get_default_configuration\n",
    "from nnunet.training.network_training.competitions_with_custom_Trainers.BraTS2021.nnUNetTrainerV2BraTSSegnet import nnUNetTrainerV2SegnetFocal, nnUNetTrainerSegNetPool5Conv3\n",
    "from nnunet.training.loss_functions.dice_loss import Tversky_and_CE_loss\n",
    "from nnunet.paths import (\n",
    "    network_training_output_dir,\n",
    "    preprocessing_output_dir,\n",
    "    default_plans_identifier,\n",
    "    \n",
    ")\n",
    "from nnunet.utilities.to_torch import maybe_to_torch, to_cuda\n",
    "from nnunet.network_architecture.segnet import SegNet\n",
    "from brats21 import utils as bu\n",
    "import matplotlib.pyplot as plt"
   ]
  },
  {
   "cell_type": "code",
   "execution_count": null,
   "id": "c648080f-e99e-424f-bea3-c8998ccce783",
   "metadata": {},
   "outputs": [],
   "source": [
    "DEVICE = \"cuda\" if torch.cuda.is_available() else \"cpu\"\n",
    "print(\"DEVICE:\", DEVICE)\n",
    "if DEVICE == \"cuda\":\n",
    "    for i in range(torch.cuda.device_count()):\n",
    "        print(\"\\t\", i, \"=\", torch.cuda.get_device_name(i))"
   ]
  },
  {
   "cell_type": "markdown",
   "id": "d41f9af0-fe97-430b-b22b-b01aa443da72",
   "metadata": {},
   "source": [
    "## Load single trainer\n",
    "The trainer contains everything you need for training and validation like dataloaders, netowrk, augmentation and training and loading logics."
   ]
  },
  {
   "cell_type": "code",
   "execution_count": null,
   "id": "cc056fe1-3991-49ca-8784-57facecf5893",
   "metadata": {
    "tags": []
   },
   "outputs": [],
   "source": [
    "# Load basic configs save in plans.pkl\n",
    "\n",
    "network = \"3d_fullres\"\n",
    "task = \"Task500_Brats21\"\n",
    "network_trainer = \"nnUNetTrainerSegNetPool6Conv4\"\n",
    "plans_identifier = \"nnUNetPlansv2.1\"\n",
    "\n",
    "plans_file, output_folder_name, dataset_directory, batch_dice, stage, trainer = get_default_configuration(network, task, network_trainer, plans_identifier)"
   ]
  },
  {
   "cell_type": "code",
   "execution_count": null,
   "id": "53513ea4-725e-4ca1-b13e-6d531beba67c",
   "metadata": {},
   "outputs": [],
   "source": [
    "# Initialize trainer\n",
    "trainer = trainer(plans_file, 4, output_folder_name, dataset_directory, batch_dice, stage, False, True, True)\n",
    "trainer.initialize()"
   ]
  },
  {
   "cell_type": "code",
   "execution_count": null,
   "id": "e20d7392-a663-440b-b519-1b770b0b3afb",
   "metadata": {},
   "outputs": [],
   "source": [
    "# Query datagenerator for next batch\n",
    "\n",
    "data_dict = next(trainer.tr_gen)\n",
    "\n",
    "data = data_dict['data']\n",
    "target = data_dict['target']\n",
    "\n",
    "print(\"Type of data\", type(data))\n",
    "print(\"Type of target\", type(target), len(target))"
   ]
  },
  {
   "cell_type": "code",
   "execution_count": null,
   "id": "3eb08431-5443-4cfb-a54a-fdd451199650",
   "metadata": {},
   "outputs": [],
   "source": [
    "# Transform everything to tensors and put on DEVICE\n",
    "\n",
    "data = to_cuda(maybe_to_torch(data))\n",
    "target = to_cuda(maybe_to_torch(target))\n",
    "trainer.network = trainer.network.to(DEVICE)"
   ]
  },
  {
   "cell_type": "code",
   "execution_count": null,
   "id": "c2f6b2e8-2479-4cef-9a54-bf21d3863c2b",
   "metadata": {},
   "outputs": [],
   "source": [
    "# FORWARD- Predict on data\n",
    "output = trainer.network(data)"
   ]
  },
  {
   "cell_type": "code",
   "execution_count": null,
   "id": "a8d5b8b1-f078-4df6-95ae-00f5a134045d",
   "metadata": {},
   "outputs": [],
   "source": [
    "# Compute loss\n",
    "l = trainer.loss(output, target)\n",
    "l"
   ]
  },
  {
   "cell_type": "markdown",
   "id": "95892845-f491-47c8-b2af-d05fa2f533d4",
   "metadata": {},
   "source": [
    "## Run *n* epochs"
   ]
  },
  {
   "cell_type": "code",
   "execution_count": null,
   "id": "355edb02-bc33-452f-98a0-99647587119e",
   "metadata": {},
   "outputs": [],
   "source": [
    "def run_n_iterations(network_trainer, network=\"3d_fullres\", task=\"Task500_Brats21\", plans_identifier = \"nnUNetPlansv2.1\", epochs = 1, batches_per_epoch = 1):\n",
    "    \"\"\" Run any number of iterations to test wheather network trainer is functional.\n",
    "    \n",
    "    Args:\n",
    "        network_trainer (str): Class name of trainer as in nnUNet\n",
    "        network (str): Netowrk type. Defaults to \"3d_fullres\".\n",
    "        task (str): Task ID. Defaults to \"Task500_Brats21\".\n",
    "        plans_identifier (str): Identifier to read plans.pkl file. Defaults to \"nnUNetPlansv2.1\".\n",
    "        epochs ([type], optional): [description]. Defaults to 1.\n",
    "        batches_per_epoch ([type], optional): [description]. Defaults to 1.\n",
    "\n",
    "    return:\n",
    "        error raised during run_training function\n",
    "    \"\"\"\n",
    "    plans_file, output_folder_name, dataset_directory, batch_dice, stage, trainer = get_default_configuration(network, task, network_trainer, plans_identifier)\n",
    "        \n",
    "    trainer = trainer(plans_file, 4, output_folder_name, dataset_directory, batch_dice, stage, False, True, True)\n",
    "    trainer.initialize()\n",
    "    \n",
    "    trainer.max_num_epochs = epochs\n",
    "    trainer.num_batches_per_epoch = batches_per_epoch\n",
    "    \n",
    "    try:\n",
    "        trainer.run_training()\n",
    "    except Exception as e:\n",
    "        return {\"Trainer\": network_trainer, \"Error\": True, \"Message\": str(e)}\n",
    "    return {\"Trainer\": network_trainer, \"Error\": False, \"Message\": None}"
   ]
  },
  {
   "cell_type": "code",
   "execution_count": null,
   "id": "095c59a1-ffa7-43fb-bea8-fdc0642ee019",
   "metadata": {},
   "outputs": [],
   "source": [
    "trainer_classes = [\n",
    "    \"nnUNetTrainerSegNetPool5Conv3\",\n",
    "    \"nnUNetTrainerSegNetPool5Conv4\",\n",
    "    \"nnUNetTrainerSegNetPool6Conv2\",\n",
    "    \"nnUNetTrainerSegNetPool6Conv3\",\n",
    "    \"nnUNetTrainerSegNetPool6Conv4\"\n",
    "]"
   ]
  },
  {
   "cell_type": "code",
   "execution_count": null,
   "id": "692e8eb2-0d32-4d20-aec3-aac4adcfc0ef",
   "metadata": {},
   "outputs": [],
   "source": [
    "# Test all trainer classes\n",
    "summary = []\n",
    "for tr_class in trainer_classes:\n",
    "    res = run_n_iterations(tr_class)\n",
    "    summary.append(res)\n",
    "    clear_output()"
   ]
  },
  {
   "cell_type": "code",
   "execution_count": null,
   "id": "20a30b57-3216-4632-93c8-849c11ec41b7",
   "metadata": {},
   "outputs": [],
   "source": [
    "# Examine errors\n",
    "found_error = False\n",
    "for res in summary:\n",
    "    if res[\"Error\"]:\n",
    "        print(\"Found error in \", res[\"Trainer\"])\n",
    "        print(\"Message = \", res[\"Message\"])\n",
    "        print()\n",
    "        found_error = True\n",
    "if not found_error:\n",
    "    print(\"No Errors found!! 🥳️\")"
   ]
  },
  {
   "cell_type": "markdown",
   "id": "b2fdcc3f-db3c-44bf-af04-a3e81aead8af",
   "metadata": {},
   "source": [
    "## Analyse architecture"
   ]
  },
  {
   "cell_type": "code",
   "execution_count": null,
   "id": "7491f624-a548-4edd-bea1-6c72551ce03a",
   "metadata": {
    "tags": []
   },
   "outputs": [],
   "source": [
    "network=\"3d_fullres\"\n",
    "task=\"Task500_Brats21\"\n",
    "plans_identifier = \"nnUNetPlansv2.1\"\n",
    "nets = []\n",
    "\n",
    "for tr_class in trainer_classes:\n",
    "    plans_file, output_folder_name, dataset_directory, batch_dice, stage, trainer = get_default_configuration(network, task, tr_class, plans_identifier)\n",
    "    trainer = trainer(plans_file, 4, output_folder_name, dataset_directory, batch_dice, stage, False, True, True)\n",
    "    trainer.initialize()\n",
    "    nets.append((tr_class, trainer.network))\n",
    "    clear_output()"
   ]
  },
  {
   "cell_type": "code",
   "execution_count": null,
   "id": "b78e09cd-53e4-4359-8cfe-43737d7cbdfd",
   "metadata": {},
   "outputs": [],
   "source": [
    "def get_n_params(model):\n",
    "    \"\"\"Get number of parameters from pytorch model network.\"\"\"\n",
    "    return sum([np.prod(p.size()) for p in model.parameters() if p.requires_grad])"
   ]
  },
  {
   "cell_type": "code",
   "execution_count": null,
   "id": "b90577c7-dc2a-42b1-95f6-36d35a28d6e4",
   "metadata": {},
   "outputs": [],
   "source": [
    "for name, arch in nets:\n",
    "    print(f\"{name} -> Number of parameters = {get_n_params(arch):,}\")"
   ]
  },
  {
   "cell_type": "code",
   "execution_count": null,
   "id": "1edc2951-3642-4de8-9531-826c247af6dd",
   "metadata": {},
   "outputs": [],
   "source": [
    "m = nn.AvgPool3d(kernel_size=(50, 44, 31), stride=None)"
   ]
  },
  {
   "cell_type": "code",
   "execution_count": null,
   "id": "5273afb3-514d-43e1-a0bf-d35aa1599915",
   "metadata": {},
   "outputs": [],
   "source": [
    "inp = torch.randn(20, 16, 50, 44, 31)"
   ]
  },
  {
   "cell_type": "code",
   "execution_count": null,
   "id": "913c94dc-b2da-4ad9-9164-a6a496a6502d",
   "metadata": {},
   "outputs": [],
   "source": [
    "output = m(inp)"
   ]
  },
  {
   "cell_type": "code",
   "execution_count": null,
   "id": "c752195d-5749-4c48-ad83-8ba8696a5482",
   "metadata": {},
   "outputs": [],
   "source": [
    "output.shape"
   ]
  }
 ],
 "metadata": {
  "kernelspec": {
   "display_name": "Python [conda env:performer]",
   "language": "python",
   "name": "conda-env-performer-py"
  },
  "language_info": {
   "codemirror_mode": {
    "name": "ipython",
    "version": 3
   },
   "file_extension": ".py",
   "mimetype": "text/x-python",
   "name": "python",
   "nbconvert_exporter": "python",
   "pygments_lexer": "ipython3",
   "version": "3.8.10"
  }
 },
 "nbformat": 4,
 "nbformat_minor": 5
}
